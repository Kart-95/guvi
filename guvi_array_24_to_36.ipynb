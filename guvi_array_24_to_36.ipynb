{
  "nbformat": 4,
  "nbformat_minor": 0,
  "metadata": {
    "colab": {
      "provenance": [],
      "authorship_tag": "ABX9TyOsQePA/KbxEu3RvlNNNPbb",
      "include_colab_link": true
    },
    "kernelspec": {
      "name": "python3",
      "display_name": "Python 3"
    },
    "language_info": {
      "name": "python"
    }
  },
  "cells": [
    {
      "cell_type": "markdown",
      "metadata": {
        "id": "view-in-github",
        "colab_type": "text"
      },
      "source": [
        "<a href=\"https://colab.research.google.com/github/Kart-95/guvi/blob/main/guvi_array_24_to_36.ipynb\" target=\"_parent\"><img src=\"https://colab.research.google.com/assets/colab-badge.svg\" alt=\"Open In Colab\"/></a>"
      ]
    },
    {
      "cell_type": "code",
      "execution_count": null,
      "metadata": {
        "id": "UBn0suJV9lKJ",
        "colab": {
          "base_uri": "https://localhost:8080/"
        },
        "outputId": "8ce7b339-b632-464d-fbbc-84f926da350f"
      },
      "outputs": [
        {
          "output_type": "stream",
          "name": "stdout",
          "text": [
            "*\n",
            "*"
          ]
        }
      ],
      "source": [
        "a=list(input())\n",
        "b=int(len(a)/2)\n",
        "if len(a)%2!=0:\n",
        "  a[b]=\"*\"\n",
        "else:\n",
        "  a[b]=\"*\"\n",
        "  a[b-1]=\"*\"\n",
        "for i in range(len(a)):\n",
        "  print(a[i],end=\"\")"
      ]
    },
    {
      "cell_type": "markdown",
      "source": [
        "25"
      ],
      "metadata": {
        "id": "rFGcFVxMAQqE"
      }
    },
    {
      "cell_type": "code",
      "source": [
        "a=int(input())\n",
        "b=list(map(int,input().split()))\n",
        "b.sort()\n",
        "b.append(0)\n",
        "for i in range(a):\n",
        "  if b[i]>b[i+1]:\n",
        "    temp=b[i]\n",
        "print(temp)\n"
      ],
      "metadata": {
        "colab": {
          "base_uri": "https://localhost:8080/"
        },
        "id": "M_Q-qR2vAOBW",
        "outputId": "c22af1ec-abf9-4677-fed5-54636feef1d3"
      },
      "execution_count": null,
      "outputs": [
        {
          "output_type": "stream",
          "name": "stdout",
          "text": [
            "3\n",
            "82 96 72\n",
            "96\n"
          ]
        }
      ]
    },
    {
      "cell_type": "markdown",
      "source": [
        "27"
      ],
      "metadata": {
        "id": "kNNtxvNHEknn"
      }
    },
    {
      "cell_type": "code",
      "source": [
        "a=int(input())\n",
        "b=list(map(int,input().split()))\n",
        "b.sort()\n",
        "c=[]\n",
        "for i in b:\n",
        "  if i not in c:\n",
        "    c.append(i)\n",
        "d=[]\n",
        "for j in c:\n",
        "  count=0\n",
        "  for k in b:\n",
        "    if j==k:\n",
        "      count+=1\n",
        "  d.append(count)\n",
        "order=d.copy()\n",
        "order.sort()\n",
        "e=[]\n",
        "for lp in range(0,len(d)):\n",
        "  if order[0]==d[lp]:\n",
        "    e.append(c[lp])\n",
        "e.sort(reverse=True)\n",
        "print(*e)"
      ],
      "metadata": {
        "colab": {
          "base_uri": "https://localhost:8080/"
        },
        "id": "wQzTkoFIEmfx",
        "outputId": "268ea7cb-68f7-45d7-e39f-23e65dfa8dd9"
      },
      "execution_count": null,
      "outputs": [
        {
          "output_type": "stream",
          "name": "stdout",
          "text": [
            "9\n",
            "1 6 4 56 56 56 6 4 2\n",
            "2 1\n"
          ]
        }
      ]
    },
    {
      "cell_type": "code",
      "source": [
        "a=int(input())\n",
        "b=[1]\n",
        "print(*b)\n",
        "for i in range(a-1):\n",
        "  b.append(1)\n",
        "  b.append(1)\n",
        "  print(*b)"
      ],
      "metadata": {
        "colab": {
          "base_uri": "https://localhost:8080/"
        },
        "id": "Tq_ivRB3pwjt",
        "outputId": "5b098f91-ea0c-4b2d-cff0-e0399ff1bbea"
      },
      "execution_count": null,
      "outputs": [
        {
          "output_type": "stream",
          "name": "stdout",
          "text": [
            "3\n",
            "1\n",
            "1 1 1\n",
            "1 1 1 1 1\n"
          ]
        }
      ]
    },
    {
      "cell_type": "code",
      "source": [
        "a=int(input())\n",
        "list1=list(map(int,input().split()))\n",
        "list2=list(map(int,input().split()))\n",
        "listfinal=list1+list2\n",
        "listfinal.sort()\n",
        "b=int(len(listfinal)/2)\n",
        "total=listfinal[b-1]+listfinal[b]\n",
        "print(total)"
      ],
      "metadata": {
        "id": "qxcGskJhr2Mv",
        "colab": {
          "base_uri": "https://localhost:8080/"
        },
        "outputId": "e2831ba0-c2a0-4b15-9757-4a67ad77e147"
      },
      "execution_count": null,
      "outputs": [
        {
          "output_type": "stream",
          "name": "stdout",
          "text": [
            "5\n",
            "1 9 16 25 46\n",
            "2 3 4 5 6\n",
            "11\n"
          ]
        }
      ]
    },
    {
      "cell_type": "markdown",
      "source": [
        "32"
      ],
      "metadata": {
        "id": "8eXu_sEr6vVB"
      }
    },
    {
      "cell_type": "code",
      "source": [
        "a=int(input())\n",
        "b=list(map(int,input().split()))\n",
        "c=[]\n",
        "for i in range(a):\n",
        "  if i%2==0:\n",
        "    c.append(b[i])\n",
        "c.sort()\n",
        "k=0\n",
        "for j in range(a):\n",
        "  if j%2==0:\n",
        "    b[j]=c[k]\n",
        "    k+=1\n",
        "print(*b)"
      ],
      "metadata": {
        "colab": {
          "base_uri": "https://localhost:8080/"
        },
        "id": "QFvsNgsn6wu4",
        "outputId": "154f8ad6-1ac5-4295-a351-14e2fbcedfea"
      },
      "execution_count": null,
      "outputs": [
        {
          "output_type": "stream",
          "name": "stdout",
          "text": [
            "5\n",
            "3 9 1 44 6\n",
            "1 9 3 44 6\n"
          ]
        }
      ]
    },
    {
      "cell_type": "markdown",
      "source": [
        "34"
      ],
      "metadata": {
        "id": "ANjKeuaLEUYu"
      }
    },
    {
      "cell_type": "code",
      "source": [
        "a=list(map(int,input().split()))\n",
        "b=[]\n",
        "for i in range(a[0]):\n",
        "  b.append(i)\n",
        "  b[i]=list(map(int,input().split()))\n",
        "count1=0 \n",
        "count2=0\n",
        "for j in range(a[0]):\n",
        "  for k in range(a[1]):\n",
        "    if b[j][k]==0:\n",
        "      count1+=1\n",
        "    if b[j][k]==1:\n",
        "      count2+=1 \n",
        "print(\"RAM: \",count1)\n",
        "print(\"SITA: \",count2)"
      ],
      "metadata": {
        "colab": {
          "base_uri": "https://localhost:8080/"
        },
        "id": "q7jPT0IeEVjQ",
        "outputId": "a06717a6-bc29-4867-b510-af938ff87d3a"
      },
      "execution_count": null,
      "outputs": [
        {
          "output_type": "stream",
          "name": "stdout",
          "text": [
            "2 4\n",
            "0 0 1 1\n",
            "0 1 0 1\n",
            "RAM:  4\n",
            "SITA:  4\n"
          ]
        }
      ]
    },
    {
      "cell_type": "markdown",
      "source": [
        "35"
      ],
      "metadata": {
        "id": "CIsoMzDgOtGU"
      }
    },
    {
      "cell_type": "code",
      "source": [
        "a=int(input())\n",
        "b=list(map(int,input().split()))\n",
        "for i in range(a-1):\n",
        "  count=0\n",
        "  for j in range(a):\n",
        "    if b[i]==b[j]:\n",
        "      count+=1\n",
        "  if count==1:\n",
        "    print(b[i])"
      ],
      "metadata": {
        "id": "1Ao3jC63OwPV",
        "colab": {
          "base_uri": "https://localhost:8080/"
        },
        "outputId": "6f3735ad-c98a-430f-f161-9d60ff4a399d"
      },
      "execution_count": null,
      "outputs": [
        {
          "output_type": "stream",
          "name": "stdout",
          "text": [
            "5\n",
            "1 1 2 5 5\n",
            "2\n"
          ]
        }
      ]
    },
    {
      "cell_type": "markdown",
      "source": [
        "36"
      ],
      "metadata": {
        "id": "Xuuv-OWX3dkc"
      }
    },
    {
      "cell_type": "code",
      "source": [
        "a=int(input())\n",
        "b=list(map(int,input().split()))\n",
        "c=list(map(str,input().split()))\n",
        "d={b[i]:c[i] for i in range(a)}\n",
        "list1=sorted(d.keys())\n",
        "for i in range(len(list1)-1):\n",
        "  if (d[list1[i]])!=(d[list1[i+1]]):\n",
        "    print(list1[i+1])"
      ],
      "metadata": {
        "colab": {
          "base_uri": "https://localhost:8080/"
        },
        "id": "FIxEjKj03cMV",
        "outputId": "2b7463e5-de3f-41d2-f03e-b82fb58692e6"
      },
      "execution_count": null,
      "outputs": [
        {
          "output_type": "stream",
          "name": "stdout",
          "text": [
            "5\n",
            "2004 1999 2019 2009 2014\n",
            "JDU JDU CON JDU CON\n",
            "2014\n"
          ]
        }
      ]
    },
    {
      "cell_type": "markdown",
      "source": [
        "37"
      ],
      "metadata": {
        "id": "w2TVwKrY7sLV"
      }
    },
    {
      "cell_type": "code",
      "source": [
        "a=int(input())\n",
        "b=[]\n",
        "for i in range(a):\n",
        "  "
      ],
      "metadata": {
        "id": "LriUU52g7tKq"
      },
      "execution_count": null,
      "outputs": []
    }
  ]
}