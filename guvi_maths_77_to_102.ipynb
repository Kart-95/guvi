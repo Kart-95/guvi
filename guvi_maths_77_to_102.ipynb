{
  "nbformat": 4,
  "nbformat_minor": 0,
  "metadata": {
    "colab": {
      "provenance": [],
      "authorship_tag": "ABX9TyMwivvSK+xiUXQXCWkBsx6k",
      "include_colab_link": true
    },
    "kernelspec": {
      "name": "python3",
      "display_name": "Python 3"
    },
    "language_info": {
      "name": "python"
    }
  },
  "cells": [
    {
      "cell_type": "markdown",
      "metadata": {
        "id": "view-in-github",
        "colab_type": "text"
      },
      "source": [
        "<a href=\"https://colab.research.google.com/github/Kart-95/guvi/blob/main/guvi_maths_77_to_102.ipynb\" target=\"_parent\"><img src=\"https://colab.research.google.com/assets/colab-badge.svg\" alt=\"Open In Colab\"/></a>"
      ]
    },
    {
      "cell_type": "code",
      "execution_count": null,
      "metadata": {
        "colab": {
          "base_uri": "https://localhost:8080/"
        },
        "id": "eS-CcgqjnO-E",
        "outputId": "0b0985e8-5340-4d90-a745-b2ae3aee7b92"
      },
      "outputs": [
        {
          "output_type": "stream",
          "name": "stdout",
          "text": [
            "2 3\n",
            "1 2\n",
            "2 1\n"
          ]
        }
      ],
      "source": [
        "a=list(map(int,input().split()))\n",
        "b=list(map(int,input().split()))\n",
        "i=0\n",
        "count=0\n",
        "while i<a[1]:\n",
        "  if i==(a[0]-1):\n",
        "    b.insert(0,b[i])\n",
        "    b.remove(b[i+1])\n",
        "    i=0\n",
        "  if count==a[1]:\n",
        "    break  \n",
        "  elif i!=a[0]:\n",
        "    temp=b[i]\n",
        "    b[i]=b[i+1]\n",
        "    b[i+1]=temp\n",
        "    i+=1\n",
        "    count+=1\n",
        "print(*b)"
      ]
    },
    {
      "cell_type": "code",
      "source": [
        "a=input()\n",
        "b=0\n",
        "count=1\n",
        "for i in range(len(a)-1,-1,-1):\n",
        "  b=int(a[i])\n",
        "  if b!=1:\n",
        "    count+=1\n",
        "  else:\n",
        "    print(count)"
      ],
      "metadata": {
        "colab": {
          "base_uri": "https://localhost:8080/"
        },
        "id": "qrdaK7mH878_",
        "outputId": "987220e5-7e5a-445c-caed-2bcd2c49904b"
      },
      "execution_count": null,
      "outputs": [
        {
          "output_type": "stream",
          "name": "stdout",
          "text": [
            "18\n",
            "2\n"
          ]
        }
      ]
    },
    {
      "cell_type": "code",
      "source": [
        "bh=list(map(int,input().split()))\n",
        "area=bh[0]*bh[1]\n",
        "area=area/2\n",
        "iarea=int(area)\n",
        "if iarea==area:\n",
        "  print(iarea)\n",
        "else:\n",
        "  print(area)\n"
      ],
      "metadata": {
        "colab": {
          "base_uri": "https://localhost:8080/"
        },
        "id": "amcQaASTFjMD",
        "outputId": "e8f4592f-1da7-4cef-d32d-4173bed19ac5"
      },
      "execution_count": null,
      "outputs": [
        {
          "output_type": "stream",
          "name": "stdout",
          "text": [
            "3 3\n",
            "4.5\n"
          ]
        }
      ]
    },
    {
      "cell_type": "code",
      "source": [
        "a=list(map(int,input().split()))\n",
        "b=[]\n",
        "for i in range(1,a[1]+1):\n",
        "  if a[0]%i==0 and a[1]%i==0:\n",
        "    b.append(i)\n",
        "b.sort()\n",
        "b.reverse()\n",
        "print(b[0])"
      ],
      "metadata": {
        "colab": {
          "base_uri": "https://localhost:8080/"
        },
        "id": "x9u1HjpgYsB6",
        "outputId": "b1c8f4b0-15e3-4d74-9d3e-d68e695b33b7"
      },
      "execution_count": null,
      "outputs": [
        {
          "output_type": "stream",
          "name": "stdout",
          "text": [
            "5 10\n",
            "5\n"
          ]
        }
      ]
    },
    {
      "cell_type": "code",
      "source": [
        "a=int(input())\n",
        "b={0:0, 30:0.5, 45:0.7071067, 60:0.866025, 90:1, 180:0}\n",
        "c=b.get(a)\n",
        "print(c)"
      ],
      "metadata": {
        "colab": {
          "base_uri": "https://localhost:8080/"
        },
        "id": "9ITrSTLXo5l6",
        "outputId": "bc7076ca-cd6c-431c-b79d-34257bed79bc"
      },
      "execution_count": null,
      "outputs": [
        {
          "output_type": "stream",
          "name": "stdout",
          "text": [
            "30\n",
            "0.5\n"
          ]
        }
      ]
    },
    {
      "cell_type": "code",
      "source": [
        "a=int(input())\n",
        "b=1\n",
        "count=0\n",
        "for i in range(a):\n",
        "  b=b*2\n",
        "  if b==a:\n",
        "    print(\"yes\")\n",
        "    break\n",
        "  else:\n",
        "    count+=1\n",
        "if count==a:\n",
        "  print(\"no\")"
      ],
      "metadata": {
        "colab": {
          "base_uri": "https://localhost:8080/"
        },
        "id": "s4o6yNqz4ibV",
        "outputId": "617a2226-7f4d-412e-e6b3-8dfdfac0dde2"
      },
      "execution_count": null,
      "outputs": [
        {
          "output_type": "stream",
          "name": "stdout",
          "text": [
            "2048\n",
            "yes\n"
          ]
        }
      ]
    },
    {
      "cell_type": "code",
      "source": [
        "a=int(input())\n",
        "b=list(map(int,input().split()))\n",
        "i=0\n",
        "j=0\n",
        "c=0\n",
        "count=0\n",
        "while j<=a:\n",
        "  if j==a:\n",
        "    break\n",
        "  elif i>j:\n",
        "    i=0\n",
        "    j+=1\n",
        "  else:\n",
        "    count+=1\n",
        "    i+=1\n",
        "for sum in range(a):\n",
        "  c=b[sum]+c\n",
        "if c<0:\n",
        "  print(c)\n",
        "else:\n",
        "  minsum=c-count\n",
        "  print(minsum)\n",
        "  "
      ],
      "metadata": {
        "id": "4olW4RESJXC7",
        "colab": {
          "base_uri": "https://localhost:8080/"
        },
        "outputId": "cc241de7-1553-4c94-a4c8-2c64493a6f99"
      },
      "execution_count": null,
      "outputs": [
        {
          "output_type": "stream",
          "name": "stdout",
          "text": [
            "5\n",
            "-1 -1 -1 -1 -1\n",
            "-5\n"
          ]
        }
      ]
    },
    {
      "cell_type": "code",
      "source": [
        "a=int(input())\n",
        "b=a\n",
        "d=[]\n",
        "while b>=1:\n",
        "  c=b%2\n",
        "  b=int(b/2)\n",
        "  d.append(round(c))\n",
        "d.reverse()\n",
        "print(*d,sep=\"\")\n"
      ],
      "metadata": {
        "colab": {
          "base_uri": "https://localhost:8080/"
        },
        "id": "QpfI-srqzANs",
        "outputId": "a0590df6-c045-4a89-8f0c-ea8c92098220"
      },
      "execution_count": null,
      "outputs": [
        {
          "output_type": "stream",
          "name": "stdout",
          "text": [
            "6\n",
            "110\n"
          ]
        }
      ]
    },
    {
      "cell_type": "code",
      "source": [
        "a=list(map(int,input().split()))\n",
        "b=1\n",
        "c=1\n",
        "j=1\n",
        "i=a[0]\n",
        "for fac in range(a[1]):\n",
        "  b=b*i\n",
        "  c=c*j\n",
        "  j+=1\n",
        "  i-=1\n",
        "  if fac==a[1]-1:\n",
        "    d=b/c\n",
        "print(int(d))"
      ],
      "metadata": {
        "id": "LUIWhg2lB_Bh",
        "colab": {
          "base_uri": "https://localhost:8080/"
        },
        "outputId": "419aa6f7-a3e3-4791-a2e1-48f832a78b4c"
      },
      "execution_count": null,
      "outputs": [
        {
          "output_type": "stream",
          "name": "stdout",
          "text": [
            "5 2\n",
            "10\n"
          ]
        }
      ]
    },
    {
      "cell_type": "code",
      "source": [
        "a=list(map(int,input().split()))\n",
        "b=(a[0]*a[0])+(a[1]*a[1])\n",
        "if b==(a[2]*a[2]):\n",
        "  print(\"yes\")\n",
        "else:\n",
        "  print(\"no\")"
      ],
      "metadata": {
        "colab": {
          "base_uri": "https://localhost:8080/"
        },
        "id": "au2WRu-7MNbK",
        "outputId": "abd07556-d6fb-4931-9c83-9d24fa494e01"
      },
      "execution_count": null,
      "outputs": [
        {
          "output_type": "stream",
          "name": "stdout",
          "text": [
            "3 4 5\n",
            "yes\n"
          ]
        }
      ]
    },
    {
      "cell_type": "code",
      "source": [
        "a=int(input())\n",
        "b=1\n",
        "for i in range(1,a+1):\n",
        "  b=b*i\n",
        "print(b)"
      ],
      "metadata": {
        "colab": {
          "base_uri": "https://localhost:8080/"
        },
        "id": "3eW8DvmSNBP6",
        "outputId": "9bbc1d46-5255-4d57-8534-b98909782e2e"
      },
      "execution_count": null,
      "outputs": [
        {
          "output_type": "stream",
          "name": "stdout",
          "text": [
            "7\n",
            "5040\n"
          ]
        }
      ]
    },
    {
      "cell_type": "code",
      "source": [
        "a=list(map(int,input().split()))\n",
        "if a[0]==a[1]:\n",
        "  print(\"no\")\n",
        "elif a[1]==a[2]:\n",
        "  print(\"no\")\n",
        "elif a[2]==a[0]:\n",
        "  print(\"no\")\n",
        "else:\n",
        "  print(\"yes\")\n"
      ],
      "metadata": {
        "colab": {
          "base_uri": "https://localhost:8080/"
        },
        "id": "-BzEDGWvNlox",
        "outputId": "0298787c-39d7-450a-e4f9-6da3957df991"
      },
      "execution_count": null,
      "outputs": [
        {
          "output_type": "stream",
          "name": "stdout",
          "text": [
            "3 3 5\n",
            "no\n"
          ]
        }
      ]
    },
    {
      "cell_type": "markdown",
      "source": [
        "89"
      ],
      "metadata": {
        "id": "A8Bg_-W4L8RC"
      }
    },
    {
      "cell_type": "code",
      "source": [
        "a=int(input())\n",
        "for i in range(1,1000):\n",
        "  b=str(i)\n",
        "  c=[]\n",
        "  total=0\n",
        "  for j in b:\n",
        "    j=int(j)\n",
        "    c.append(j)\n",
        "  for k in range(len(b)):\n",
        "    temp=1\n",
        "    for l in range(c[k],1,-1):\n",
        "      temp=temp*l\n",
        "    total=temp+total\n",
        "    if total==a:\n",
        "      print(b)\n",
        "      break\n",
        "  if total==a:\n",
        "    break\n",
        "else:\n",
        "  print(\"-1\")\n",
        "\n",
        "  "
      ],
      "metadata": {
        "colab": {
          "base_uri": "https://localhost:8080/"
        },
        "id": "q1KTKoUODsCq",
        "outputId": "a1718cad-4c6f-41f3-bec0-85ed625e065b"
      },
      "execution_count": null,
      "outputs": [
        {
          "output_type": "stream",
          "name": "stdout",
          "text": [
            "40322\n",
            "28\n"
          ]
        }
      ]
    },
    {
      "cell_type": "markdown",
      "source": [
        "90"
      ],
      "metadata": {
        "id": "8mdn5p-JL-GA"
      }
    },
    {
      "cell_type": "code",
      "source": [
        "a=int(input())\n",
        "b=0\n",
        "for i in range(a):\n",
        "  b=b+1+b\n",
        "print(b)\n"
      ],
      "metadata": {
        "id": "zTFOOI2EL_E7",
        "colab": {
          "base_uri": "https://localhost:8080/"
        },
        "outputId": "efb50986-0e4d-4c92-fc2c-980fa2e4863f"
      },
      "execution_count": null,
      "outputs": [
        {
          "output_type": "stream",
          "name": "stdout",
          "text": [
            "3\n",
            "7\n"
          ]
        }
      ]
    },
    {
      "cell_type": "markdown",
      "source": [
        "91"
      ],
      "metadata": {
        "id": "mESRMU2V92n8"
      }
    },
    {
      "cell_type": "code",
      "source": [
        "a=input()\n",
        "b=[]\n",
        "for i in a:\n",
        "  b.append(i)\n",
        "b.sort(reverse=True)\n",
        "print(*b,sep=\"\")"
      ],
      "metadata": {
        "colab": {
          "base_uri": "https://localhost:8080/"
        },
        "id": "mOobn-6c94Qw",
        "outputId": "c62ef1ab-aecc-4aba-be4e-94767aa9b255"
      },
      "execution_count": null,
      "outputs": [
        {
          "output_type": "stream",
          "name": "stdout",
          "text": [
            "12345\n",
            "54321\n"
          ]
        }
      ]
    },
    {
      "cell_type": "markdown",
      "source": [
        "92"
      ],
      "metadata": {
        "id": "dPX8HqkLA_nm"
      }
    },
    {
      "cell_type": "code",
      "source": [
        "a=int(input())\n",
        "sample=[]\n",
        "for i in range(2,10):\n",
        "  count=0\n",
        "  for j in range(2,10):\n",
        "    if i%j==0:\n",
        "      count+=1\n",
        "  if count==1:\n",
        "    sample.append(i)\n",
        "temp=0\n",
        "for k in range(1,10000):\n",
        "  b=str(k)\n",
        "  count=0\n",
        "  for l in range(len(b)):\n",
        "    \n",
        "    for m in sample:\n",
        "      if int(b[l])==m:\n",
        "        count+=1\n",
        "        if count==len(b):\n",
        "          temp+=1\n",
        "  if temp==a:\n",
        "    print(k)\n",
        "    break"
      ],
      "metadata": {
        "id": "D2d98i_CBAiJ",
        "colab": {
          "base_uri": "https://localhost:8080/"
        },
        "outputId": "278447d7-71e0-4929-b262-84d70ddd7c58"
      },
      "execution_count": null,
      "outputs": [
        {
          "output_type": "stream",
          "name": "stdout",
          "text": [
            "100\n",
            "2277\n"
          ]
        }
      ]
    },
    {
      "cell_type": "markdown",
      "source": [
        "93"
      ],
      "metadata": {
        "id": "DrLyQ3oIzQjk"
      }
    },
    {
      "cell_type": "code",
      "source": [
        "a=list(map(int,input().split()))\n",
        "a.sort()\n",
        "if (a[0]*a[0])+(a[1]*a[1])==(a[2]*a[2]):\n",
        "  print(\"yes\")\n",
        "else:\n",
        "  print(\"no\")\n"
      ],
      "metadata": {
        "colab": {
          "base_uri": "https://localhost:8080/"
        },
        "id": "_jyQgo9SzSvE",
        "outputId": "b774fb9d-cb4a-4f78-b8f6-8677b7385b69"
      },
      "execution_count": null,
      "outputs": [
        {
          "output_type": "stream",
          "name": "stdout",
          "text": [
            "2 3 4\n",
            "no\n"
          ]
        }
      ]
    },
    {
      "cell_type": "markdown",
      "source": [
        "94"
      ],
      "metadata": {
        "id": "oHM_YAKUDG0L"
      }
    },
    {
      "cell_type": "code",
      "source": [
        "a=list(map(int,input().split()))\n",
        "temp=1\n",
        "temp1=1\n",
        "for i in range(a[0],1,-1):\n",
        "    temp=temp*i\n",
        "for j in range(a[1],1,-1):\n",
        "    temp1=temp1*i\n",
        "ans=temp/temp1\n",
        "print(int(ans))"
      ],
      "metadata": {
        "colab": {
          "base_uri": "https://localhost:8080/"
        },
        "id": "sVJ0zBXzDIUX",
        "outputId": "9ee7f901-6e26-4c52-b514-ac7fc5455ab2"
      },
      "execution_count": null,
      "outputs": [
        {
          "output_type": "stream",
          "name": "stdout",
          "text": [
            "4 2\n",
            "12\n"
          ]
        }
      ]
    },
    {
      "cell_type": "markdown",
      "source": [
        "95"
      ],
      "metadata": {
        "id": "JbCrU1cbIede"
      }
    },
    {
      "cell_type": "code",
      "source": [
        "a=int(input())\n",
        "b=str(a)\n",
        "count=0\n",
        "i=0\n",
        "while i<=(len(b)-1):\n",
        "  temp=1\n",
        "  for j in range(len(b)):\n",
        "    temp=int(b[i])*temp\n",
        "  count=count+temp\n",
        "  i+=1\n",
        "print(count)"
      ],
      "metadata": {
        "colab": {
          "base_uri": "https://localhost:8080/"
        },
        "id": "IbKYxUkHD2St",
        "outputId": "677ed541-3a00-49ce-e23b-70b28e255aa3"
      },
      "execution_count": null,
      "outputs": [
        {
          "output_type": "stream",
          "name": "stdout",
          "text": [
            "1234\n",
            "354\n"
          ]
        }
      ]
    },
    {
      "cell_type": "markdown",
      "source": [
        "96\n"
      ],
      "metadata": {
        "id": "aZowtGQlIfmG"
      }
    },
    {
      "cell_type": "code",
      "source": [
        "a=int(input())\n",
        "b=list(map(int,input().split()))\n",
        "c=[]\n",
        "d={}\n",
        "for i in range(len(b)):\n",
        "  for j in range(2,b[i]+1):\n",
        "    if b[i]%j==0:\n",
        "      c.append(j)\n",
        "for k in c:\n",
        "  d[k]=c.count(k)\n",
        "e=max(d,key=d.get)\n",
        "print(e)"
      ],
      "metadata": {
        "colab": {
          "base_uri": "https://localhost:8080/"
        },
        "id": "Ge_7AuU4JlU0",
        "outputId": "85b18a70-2138-43ba-afd5-bb38a26d2ec7"
      },
      "execution_count": null,
      "outputs": [
        {
          "output_type": "stream",
          "name": "stdout",
          "text": [
            "6\n",
            "2 4 8 16\n",
            "2\n"
          ]
        }
      ]
    },
    {
      "cell_type": "markdown",
      "source": [
        "97"
      ],
      "metadata": {
        "id": "wf6Xen-J2uM2"
      }
    },
    {
      "cell_type": "code",
      "source": [
        "a=list(map(int,input().split()))\n",
        "b=list(map(int,input().split()))\n",
        "b.sort()\n",
        "count=0\n",
        "temp=0\n",
        "for i in range(a[0]):\n",
        "  temp=temp+b[i]\n",
        "  if b[i]<=a[1] and temp<=a[1]:\n",
        "    count+=1\n",
        "print(count)"
      ],
      "metadata": {
        "colab": {
          "base_uri": "https://localhost:8080/"
        },
        "id": "Rm7PvcRQ2xD4",
        "outputId": "0b617bc1-f6e6-4809-a7d2-223072581e82"
      },
      "execution_count": null,
      "outputs": [
        {
          "output_type": "stream",
          "name": "stdout",
          "text": [
            "13 150\n",
            "1 11 111 1111 11111 111111 111 111 111 10 13 16 19\n",
            "6\n"
          ]
        }
      ]
    },
    {
      "cell_type": "markdown",
      "source": [
        "98\n"
      ],
      "metadata": {
        "id": "6yype3zunD6k"
      }
    },
    {
      "cell_type": "code",
      "source": [
        "a=input()\n",
        "temp=str(int(a[0])+int(a[1]))\n",
        "if len(temp)==2:\n",
        "  j=0\n",
        "  count=0\n",
        "  for i in range(2,len(a)):\n",
        "    if int(temp[j])==int(a[i]):\n",
        "      j+=1\n",
        "      count+=1\n",
        "    if count==2:\n",
        "      print(1)\n",
        "elif len(temp)==1:\n",
        "  if int(temp)==int(a[len(a)-1]):\n",
        "    print(1)\n",
        "else:\n",
        "  print(0)"
      ],
      "metadata": {
        "id": "O-pXoFQwnFCh",
        "colab": {
          "base_uri": "https://localhost:8080/"
        },
        "outputId": "b2c4ce1c-b825-4653-e888-55a9b868eb85"
      },
      "execution_count": null,
      "outputs": [
        {
          "output_type": "stream",
          "name": "stdout",
          "text": [
            "1865329\n",
            "1\n"
          ]
        }
      ]
    },
    {
      "cell_type": "markdown",
      "source": [
        "99"
      ],
      "metadata": {
        "id": "eJEZ2Zfz53Co"
      }
    },
    {
      "cell_type": "code",
      "source": [
        "a=int(input())\n",
        "b=list(map(int,input().split()))\n",
        "b.sort()\n",
        "count=0\n",
        "for i in range(a):\n",
        "  if b[i]<=a:\n",
        "    count+=1\n",
        "print(count)"
      ],
      "metadata": {
        "colab": {
          "base_uri": "https://localhost:8080/"
        },
        "id": "MljJoctI54Xo",
        "outputId": "19dda7ae-9cfd-48ef-82c0-4c0bcaffd0d0"
      },
      "execution_count": null,
      "outputs": [
        {
          "output_type": "stream",
          "name": "stdout",
          "text": [
            "9\n",
            "1 2 3 4 5 6 7 8 9\n",
            "9\n"
          ]
        }
      ]
    },
    {
      "cell_type": "markdown",
      "source": [
        "100"
      ],
      "metadata": {
        "id": "w8tuQnKo7t_c"
      }
    },
    {
      "cell_type": "code",
      "source": [
        "a=int(input())\n",
        "b=list(map(int,input().split()))\n",
        "c=b.copy()\n",
        "c.sort()\n",
        "\n"
      ],
      "metadata": {
        "colab": {
          "base_uri": "https://localhost:8080/"
        },
        "id": "9ONB5u1d7v1Q",
        "outputId": "2ef42cc8-2ca9-4189-b7b3-9af4fb7b32be"
      },
      "execution_count": null,
      "outputs": [
        {
          "name": "stdout",
          "output_type": "stream",
          "text": [
            "5\n",
            "1 4 5 3 2\n"
          ]
        }
      ]
    },
    {
      "cell_type": "code",
      "source": [
        "count=0\n",
        "for i in range(len(b)):\n",
        "  for j in range(len(b)):\n",
        "    if c[i]==b[j] and i==j:\n",
        "      break\n",
        "    elif c[i]==b[j]:\n",
        "      temp=b[i]\n",
        "      b[i]=b[j]\n",
        "      b[j]=temp\n",
        "      count+=1\n",
        "      break\n",
        "print(count)"
      ],
      "metadata": {
        "colab": {
          "base_uri": "https://localhost:8080/"
        },
        "id": "Zk1X38oF3Wbc",
        "outputId": "02606f31-0b71-45bf-fb6e-8195d03ef7a1"
      },
      "execution_count": null,
      "outputs": [
        {
          "output_type": "stream",
          "name": "stdout",
          "text": [
            "3\n"
          ]
        }
      ]
    },
    {
      "cell_type": "markdown",
      "source": [
        "101"
      ],
      "metadata": {
        "id": "nodkx1FxC-rT"
      }
    },
    {
      "cell_type": "code",
      "source": [
        "a=int(input())\n",
        "b=[]\n",
        "for i in range(2,a+1):\n",
        "  count=0\n",
        "  for j in range(2,a+1):\n",
        "    if a%i==0 and i%j==0:\n",
        "      count+=1\n",
        "  if count==1:\n",
        "    b.append(i)\n",
        "print(*b)\n",
        "      "
      ],
      "metadata": {
        "colab": {
          "base_uri": "https://localhost:8080/"
        },
        "id": "vnqd2-OvC9ag",
        "outputId": "10cc1f64-4e32-44e6-e76f-3df8908732ad"
      },
      "execution_count": null,
      "outputs": [
        {
          "output_type": "stream",
          "name": "stdout",
          "text": [
            "18\n",
            "2 3\n"
          ]
        }
      ]
    },
    {
      "cell_type": "markdown",
      "source": [
        "102"
      ],
      "metadata": {
        "id": "ffGz9DzJKRhe"
      }
    },
    {
      "cell_type": "code",
      "source": [
        "a=list(map(int,input().split()))\n",
        "a.sort()\n",
        "b=[]\n",
        "for i in range(2,100000):\n",
        "  if i%a[0]==0 and i%a[1]==0:\n",
        "    b.append(i)\n",
        "    break\n",
        "b.sort()\n",
        "print(b[0])"
      ],
      "metadata": {
        "colab": {
          "base_uri": "https://localhost:8080/"
        },
        "id": "AcuaaDcLKSvs",
        "outputId": "da793efb-bfa2-4e45-fcfe-0f6fdc2e6984"
      },
      "execution_count": null,
      "outputs": [
        {
          "output_type": "stream",
          "name": "stdout",
          "text": [
            "10 130\n",
            "130\n"
          ]
        }
      ]
    }
  ]
}