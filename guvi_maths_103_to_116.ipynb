{
  "nbformat": 4,
  "nbformat_minor": 0,
  "metadata": {
    "colab": {
      "provenance": [],
      "authorship_tag": "ABX9TyPAuZ8QcpCK/JLdhgijuEIG",
      "include_colab_link": true
    },
    "kernelspec": {
      "name": "python3",
      "display_name": "Python 3"
    },
    "language_info": {
      "name": "python"
    }
  },
  "cells": [
    {
      "cell_type": "markdown",
      "metadata": {
        "id": "view-in-github",
        "colab_type": "text"
      },
      "source": [
        "<a href=\"https://colab.research.google.com/github/Kart-95/guvi/blob/main/guvi_maths_103_to_116.ipynb\" target=\"_parent\"><img src=\"https://colab.research.google.com/assets/colab-badge.svg\" alt=\"Open In Colab\"/></a>"
      ]
    },
    {
      "cell_type": "markdown",
      "source": [
        "103"
      ],
      "metadata": {
        "id": "t0tSkNG31keK"
      }
    },
    {
      "cell_type": "code",
      "execution_count": null,
      "metadata": {
        "id": "4y75wx6KMEmv",
        "colab": {
          "base_uri": "https://localhost:8080/"
        },
        "outputId": "5333694e-eaa1-4100-fc81-43d69a1ecfe1"
      },
      "outputs": [
        {
          "output_type": "stream",
          "name": "stdout",
          "text": [
            "4\n",
            "2 4 6 8\n",
            "24\n"
          ]
        }
      ],
      "source": [
        "a=int(input())\n",
        "b=list(map(int,input().split()))\n",
        "count=0\n",
        "while count<=len(b):\n",
        "  for i in range(len(b)):\n",
        "    for j in range(2,100):\n",
        "      if b[i]%j==0:\n",
        "        temp=b[i]/j\n",
        "        if temp==1:\n",
        "          count+=1\n",
        "          break\n",
        "        elif temp!=1:\n",
        "          b[i]=int(temp)\n",
        "temp1=1\n",
        "for k in range(len(b)):\n",
        "  temp1=b[k]*temp1\n",
        "print(temp1)"
      ]
    },
    {
      "cell_type": "markdown",
      "source": [
        "104\n"
      ],
      "metadata": {
        "id": "5-8KnMQT1j_J"
      }
    },
    {
      "cell_type": "code",
      "source": [
        "a=int(input())\n",
        "for j in range(224,1000):\n",
        "  d=str(j)\n",
        "  if (int(d[0])+int(d[1])+int(d[2]))==a and (int(d[0]) not in [1,4,6,8,9,0,5]) and (int(d[1]) not in [1,4,6,8,9,0,5]) and (int(d[2]) not in [1,4,6,8,9,0,5]):\n",
        "    b=str(j)\n",
        "    for i in range(9,0,-1):\n",
        "      if int(b[0])%i==0 and int(b[1])%i==0 and int(b[2])%i==0 and i==1:\n",
        "        if int(b[0])<=int(b[1]):\n",
        "          print(b[0],b[1],b[2])\n",
        "          break\n",
        "    \n"
      ],
      "metadata": {
        "colab": {
          "base_uri": "https://localhost:8080/"
        },
        "id": "CXB1IipI-kHd",
        "outputId": "1ed780fe-53f2-410b-bb92-b9c962b88687"
      },
      "execution_count": null,
      "outputs": [
        {
          "output_type": "stream",
          "name": "stdout",
          "text": [
            "7\n",
            "2 3 2\n"
          ]
        }
      ]
    },
    {
      "cell_type": "markdown",
      "source": [
        "105"
      ],
      "metadata": {
        "id": "wiijwkwda7FN"
      }
    },
    {
      "cell_type": "code",
      "source": [
        "a=list(map(int,input().split()))\n",
        "count=0\n",
        "for i in range(a[0],((a[1])+1)):\n",
        "  for j in range(2,a[1]):\n",
        "    b=i/j\n",
        "    if b==j:\n",
        "      count+=1\n",
        "      break\n",
        "if count!=0:\n",
        "  print(count)\n",
        "else:\n",
        "  print(\"-1\")\n"
      ],
      "metadata": {
        "colab": {
          "base_uri": "https://localhost:8080/"
        },
        "id": "bfjrHdTMa8AE",
        "outputId": "8ed42f2d-a8c6-47d6-f29b-ecd2bc9d9200"
      },
      "execution_count": null,
      "outputs": [
        {
          "output_type": "stream",
          "name": "stdout",
          "text": [
            "3 10\n",
            "4\n",
            "9\n",
            "2\n"
          ]
        }
      ]
    },
    {
      "cell_type": "markdown",
      "source": [
        "106"
      ],
      "metadata": {
        "id": "r4kZqFTmv5QU"
      }
    },
    {
      "cell_type": "code",
      "source": [
        "a=input()\n",
        "b=list(map(int,input().split()))\n",
        "c=list(map(int,input().split()))\n",
        "if b[0]==c[1] and b[1]==c[0]:\n",
        "  print(1)\n",
        "else:\n",
        "  print(0)\n"
      ],
      "metadata": {
        "id": "q9YC4bsmbNYA"
      },
      "execution_count": null,
      "outputs": []
    },
    {
      "cell_type": "markdown",
      "source": [
        "107"
      ],
      "metadata": {
        "id": "e-Jtg_AE8gf4"
      }
    },
    {
      "cell_type": "code",
      "source": [
        "a=list(map(int,input().split()))\n",
        "b=pow(a[0],a[1])\n",
        "ans=b%(a[2])\n",
        "print(ans)"
      ],
      "metadata": {
        "colab": {
          "base_uri": "https://localhost:8080/"
        },
        "id": "GoDaPkR18hX3",
        "outputId": "f48e89e9-9a61-442f-f45f-607c04071cf1"
      },
      "execution_count": null,
      "outputs": [
        {
          "output_type": "stream",
          "name": "stdout",
          "text": [
            "3 4 1000000007\n",
            "81\n"
          ]
        }
      ]
    },
    {
      "cell_type": "markdown",
      "source": [
        "108"
      ],
      "metadata": {
        "id": "ooqxMuRQ9LMV"
      }
    },
    {
      "cell_type": "code",
      "source": [
        "a=int(input())\n",
        "b=list(map(int,input().split()))\n",
        "b.sort()\n",
        "count=0\n",
        "for i in range(len(b)-1):\n",
        "  if b[i]<b[i+1]:\n",
        "    count+=1\n",
        "if count==(len(b)-1):\n",
        "  print(\"yes\")\n",
        "else:\n",
        "   print(\"no\")"
      ],
      "metadata": {
        "colab": {
          "base_uri": "https://localhost:8080/"
        },
        "id": "PdYUk7gG9MZW",
        "outputId": "de6b26a4-3364-4c69-c6d1-7a4532bcfe9b"
      },
      "execution_count": null,
      "outputs": [
        {
          "output_type": "stream",
          "name": "stdout",
          "text": [
            "5\n",
            "12 12 3 7 4\n",
            "no\n"
          ]
        }
      ]
    },
    {
      "cell_type": "markdown",
      "source": [
        "109"
      ],
      "metadata": {
        "id": "s90jl4CMvdVw"
      }
    },
    {
      "cell_type": "code",
      "source": [
        "a=int(input())\n",
        "count=0\n",
        "for i in range(a-1,1,-1):\n",
        "  if a%i==0:\n",
        "    print(\"yes\")\n",
        "    count+=1\n",
        "    break\n",
        "if count==0:\n",
        "  print(\"no\")\n"
      ],
      "metadata": {
        "colab": {
          "base_uri": "https://localhost:8080/"
        },
        "id": "oZVfnZaJvesW",
        "outputId": "21ac8907-534b-4c0c-c84c-00135d100cb1"
      },
      "execution_count": null,
      "outputs": [
        {
          "output_type": "stream",
          "name": "stdout",
          "text": [
            "10\n",
            "yes\n"
          ]
        }
      ]
    },
    {
      "cell_type": "markdown",
      "source": [
        "110"
      ],
      "metadata": {
        "id": "LUORNZZwxAUG"
      }
    },
    {
      "cell_type": "code",
      "source": [
        "angle=list(map(int,input().split()))\n",
        "if (angle[0]+angle[1]+angle[2])==180:\n",
        "  print(\"yes\")\n",
        "else:\n",
        "  print(\"no\")"
      ],
      "metadata": {
        "colab": {
          "base_uri": "https://localhost:8080/"
        },
        "id": "50-U7pyyxBPA",
        "outputId": "4b36d0e9-3e1a-4013-b59c-fb175d5dcad3"
      },
      "execution_count": null,
      "outputs": [
        {
          "output_type": "stream",
          "name": "stdout",
          "text": [
            "2 2 176\n",
            "yes\n"
          ]
        }
      ]
    },
    {
      "cell_type": "markdown",
      "source": [
        "111"
      ],
      "metadata": {
        "id": "wWIuznnHx8dA"
      }
    },
    {
      "cell_type": "code",
      "source": [
        "a=input()\n",
        "ans=int(a[0])+int(a[(len(a)-1)])\n",
        "print(ans)"
      ],
      "metadata": {
        "colab": {
          "base_uri": "https://localhost:8080/"
        },
        "id": "ZwrQYpQgx_ir",
        "outputId": "ebc34ac7-b917-46d5-bc21-cada3aa11e48"
      },
      "execution_count": null,
      "outputs": [
        {
          "output_type": "stream",
          "name": "stdout",
          "text": [
            "51233\n",
            "8\n"
          ]
        }
      ]
    },
    {
      "cell_type": "markdown",
      "source": [
        "112"
      ],
      "metadata": {
        "id": "-2arhH3nC9Gw"
      }
    },
    {
      "cell_type": "code",
      "source": [
        "a=int(input())\n",
        "temp=a\n",
        "count=1\n",
        "for i in range(100):\n",
        "  ans=temp//2\n",
        "  temp=ans\n",
        "  count+=1\n",
        "  if ans==1:\n",
        "    break\n",
        "if a==1 or a==0:\n",
        "  print(\"1\")\n",
        "else:\n",
        "  print(count)"
      ],
      "metadata": {
        "colab": {
          "base_uri": "https://localhost:8080/"
        },
        "id": "H2H4FNL_ytRF",
        "outputId": "2e315ac6-9759-45f3-a6eb-70385ca015e4"
      },
      "execution_count": null,
      "outputs": [
        {
          "output_type": "stream",
          "name": "stdout",
          "text": [
            "10\n",
            "4\n"
          ]
        }
      ]
    },
    {
      "cell_type": "markdown",
      "source": [
        "113"
      ],
      "metadata": {
        "id": "DT5gmd--DCVf"
      }
    },
    {
      "cell_type": "code",
      "source": [
        "a=input()\n",
        "count=0\n",
        "for i in range(len(a)):\n",
        "  for j in range(len(a)):\n",
        "    if i==j:\n",
        "      continue\n",
        "    elif a[i]==a[j]:\n",
        "      count+=1\n",
        "      break\n",
        "if count==len(a):\n",
        "  print(\"-1\")\n",
        "else:\n",
        "  print((len(a)-count))"
      ],
      "metadata": {
        "colab": {
          "base_uri": "https://localhost:8080/"
        },
        "id": "haZ_Jq3sDAmb",
        "outputId": "aca3c5df-7986-4e15-d02a-5ee95098401a"
      },
      "execution_count": null,
      "outputs": [
        {
          "output_type": "stream",
          "name": "stdout",
          "text": [
            "9763\n",
            "4\n"
          ]
        }
      ]
    },
    {
      "cell_type": "markdown",
      "source": [
        "114"
      ],
      "metadata": {
        "id": "8I-S-GIIzJrx"
      }
    },
    {
      "cell_type": "code",
      "source": [
        "a=input()\n",
        "ans=0\n",
        "for i in range(len(a)):\n",
        "  temp=pow(int(a[i]),2)\n",
        "  ans+=temp\n",
        "print(ans)"
      ],
      "metadata": {
        "colab": {
          "base_uri": "https://localhost:8080/"
        },
        "id": "ylJ1ugZ7qgfL",
        "outputId": "56ef0653-24d1-4b93-eccb-72866f078bc3"
      },
      "execution_count": null,
      "outputs": [
        {
          "output_type": "stream",
          "name": "stdout",
          "text": [
            "19\n",
            "82\n"
          ]
        }
      ]
    },
    {
      "cell_type": "markdown",
      "source": [
        "115"
      ],
      "metadata": {
        "id": "QXMG1DKw0ikr"
      }
    },
    {
      "cell_type": "code",
      "source": [
        "a=int(input())\n",
        "b=list(map(int,input().split()))\n",
        "c=[]\n",
        "for i in b:\n",
        "  if i not in c:\n",
        "    c.append(i)\n",
        "for j in range(len(c)):\n",
        "  count=0\n",
        "  for k in range(a):\n",
        "    if c[j]==b[k]:\n",
        "      count+=1\n",
        "  if count==1:\n",
        "    print(c[j])\n",
        "\n"
      ],
      "metadata": {
        "colab": {
          "base_uri": "https://localhost:8080/"
        },
        "id": "C-X4OY4X0jwE",
        "outputId": "4a7491ce-687a-4d0d-ccb3-785bcea4bd5e"
      },
      "execution_count": null,
      "outputs": [
        {
          "output_type": "stream",
          "name": "stdout",
          "text": [
            "10\n",
            "1 2 3 2 3 3 2 5 5 2\n",
            "1\n"
          ]
        }
      ]
    },
    {
      "cell_type": "markdown",
      "source": [
        "116"
      ],
      "metadata": {
        "id": "GJSqytaBFcWy"
      }
    },
    {
      "cell_type": "code",
      "source": [
        "a=input()\n",
        "ans=0\n",
        "b=len(a)\n",
        "for i in range(len(a)-1,-1,-1):\n",
        "  temp=pow(int(a[i]),b-1)\n",
        "  ans+=temp\n",
        "  b-=1\n",
        "print(ans)\n"
      ],
      "metadata": {
        "colab": {
          "base_uri": "https://localhost:8080/"
        },
        "id": "FHfTNz3mFdHL",
        "outputId": "7bf7750a-c426-4b45-8815-87f3779b68f2"
      },
      "execution_count": null,
      "outputs": [
        {
          "output_type": "stream",
          "name": "stdout",
          "text": [
            "100\n",
            "1\n"
          ]
        }
      ]
    }
  ]
}