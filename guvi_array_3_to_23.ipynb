{
  "nbformat": 4,
  "nbformat_minor": 0,
  "metadata": {
    "colab": {
      "provenance": [],
      "authorship_tag": "ABX9TyPegPm0B5I+qrDqXmfo1xA5",
      "include_colab_link": true
    },
    "kernelspec": {
      "name": "python3",
      "display_name": "Python 3"
    },
    "language_info": {
      "name": "python"
    }
  },
  "cells": [
    {
      "cell_type": "markdown",
      "metadata": {
        "id": "view-in-github",
        "colab_type": "text"
      },
      "source": [
        "<a href=\"https://colab.research.google.com/github/Kart-95/guvi/blob/main/guvi_array_3_to_23.ipynb\" target=\"_parent\"><img src=\"https://colab.research.google.com/assets/colab-badge.svg\" alt=\"Open In Colab\"/></a>"
      ]
    },
    {
      "cell_type": "code",
      "execution_count": null,
      "metadata": {
        "id": "IiqdrNfpq_5H",
        "colab": {
          "base_uri": "https://localhost:8080/"
        },
        "outputId": "ab1704fd-bc2f-4661-f95d-238d0191bbb4"
      },
      "outputs": [
        {
          "output_type": "stream",
          "name": "stdout",
          "text": [
            "4\n",
            "1 1 3 2\n",
            "{1: 2, 2: 1, 3: 1}\n",
            "2 3 1\n"
          ]
        }
      ],
      "source": [
        "def dup(a,b,j,i):\n",
        "  count=0\n",
        "  if j<a:\n",
        "    for i in range(a):\n",
        "      if b[j]==b[i]:\n",
        "        count+=1\n",
        "    d[b[j]]=count\n",
        "    return dup(a,b,j+1,i=0)\n",
        "  elif j==a:\n",
        "    return \n",
        "\n",
        "    \n",
        "a=int(input())\n",
        "b=list(map(int,input().split()))\n",
        "b.sort()\n",
        "j=0\n",
        "i=0\n",
        "d={}\n",
        "lis=[]\n",
        "dup(a,b,j,i)\n",
        "result=sorted(d.items())\n",
        "for ij in range(len(result)-1):\n",
        "  if (result[ij][1])==(result[ij+1][1]):\n",
        "    if (result[ij][0])<(result[ij+1][0]):\n",
        "      lis.append(result[ij][0])\n",
        "      lis.append(result[ij+1][0])\n",
        "      lis.append(result[ij-1][0])\n",
        "    else:\n",
        "      lis.append(result[ij+1][0])\n",
        "      lis.append(result[ij][0])\n",
        "      lis.append(result[ij-1][0])\n",
        "print(*lis)"
      ]
    },
    {
      "cell_type": "code",
      "source": [
        "def compare(a,b,lis):\n",
        "  for i in range(a[0]-1):\n",
        "    c=b[i]-b[i+1]\n",
        "    if c<0:\n",
        "      c=c*-1\n",
        "    if c>a[1]:\n",
        "      lis.append(1)\n",
        "    else:\n",
        "      lis.append(0)\n",
        "  if i==(a[0]-2):\n",
        "    c=b[i+1]-b[0]\n",
        "    if c<0:\n",
        "      c=c*-1\n",
        "    if c>a[1]:\n",
        "      lis.append(1)\n",
        "    else:\n",
        "      lis.append(0)\n",
        "  return\n",
        "a=list(map(int,input().split()))\n",
        "b=list(map(int,input().split()))\n",
        "lis=[]\n",
        "compare(a,b,lis)\n",
        "print(*lis)\n"
      ],
      "metadata": {
        "colab": {
          "base_uri": "https://localhost:8080/"
        },
        "id": "yNm7dvzjY5Jo",
        "outputId": "8ba56bd6-2afd-4f45-a230-805fbd7d02a5"
      },
      "execution_count": null,
      "outputs": [
        {
          "output_type": "stream",
          "name": "stdout",
          "text": [
            "5 15\n",
            "50 65 85 98 35\n",
            "3\n",
            "0 1 0 1 0\n"
          ]
        }
      ]
    },
    {
      "cell_type": "code",
      "source": [
        "a=list(map(int,input().split()))\n",
        "b=list(map(int,input().split()))\n",
        "c=[]\n",
        "\n",
        "for j in range(a[0]-1):\n",
        "  count=0\n",
        "  for i in range(a[1]):\n",
        "    if b[0+j+i]==0:\n",
        "      c.append(j+1+i)\n",
        "      if b[0+j+i]==b[1+j+i]:\n",
        "        break\n",
        "    if b[0+j+i]!=0:\n",
        "      count+=1\n",
        "    if count==2:\n",
        "      c.append(-1)\n",
        "      \n",
        "print(*c)\n"
      ],
      "metadata": {
        "id": "zcAxHtB-2SeC",
        "colab": {
          "base_uri": "https://localhost:8080/"
        },
        "outputId": "176c2f50-c3bb-4153-89fc-0e8695561726"
      },
      "execution_count": null,
      "outputs": [
        {
          "output_type": "stream",
          "name": "stdout",
          "text": [
            "9 2\n",
            "0 0 0 0 0 0 0 0 0\n",
            "1 2 3 4 5 6 7 8\n"
          ]
        }
      ]
    },
    {
      "cell_type": "code",
      "source": [
        "a=int(input())\n",
        "b=list(map(int,input().split()))\n",
        "c=[]\n",
        "for i in range(a-1):\n",
        "  for j in range(i+1,a):\n",
        "    if b[j]<b[i]:\n",
        "      c.append(b[j])\n",
        "      break\n",
        "if len(c)!=a:\n",
        "  for k in range(a):\n",
        "    c.append(-1)\n",
        "    if len(c)==a:\n",
        "      break\n",
        "print(*c)"
      ],
      "metadata": {
        "id": "6VA9Idgm6ute",
        "colab": {
          "base_uri": "https://localhost:8080/"
        },
        "outputId": "8117dada-9a99-442c-c1ba-cdef2c25af89"
      },
      "execution_count": null,
      "outputs": [
        {
          "output_type": "stream",
          "name": "stdout",
          "text": [
            "7\n",
            "10 7 9 3 2 1 15\n",
            "7 3 3 2 1 -1 -1\n"
          ]
        }
      ]
    },
    {
      "cell_type": "code",
      "source": [
        "a=int(input())\n",
        "b=list(map(int,input().split()))\n",
        "b.sort()\n",
        "c=[]\n",
        "for dup in b:\n",
        "  if dup not in c:\n",
        "    c.append(dup)\n",
        "for i in range(len(c)):\n",
        "  count=0\n",
        "  for j in range(a):\n",
        "    if b[i]==b[j]:\n",
        "      count+=1\n",
        "  if count!=3:\n",
        "    print(b[i])\n",
        "    break\n"
      ],
      "metadata": {
        "colab": {
          "base_uri": "https://localhost:8080/"
        },
        "id": "LJ8rmK54pYc4",
        "outputId": "3110872d-f153-4a63-aaf6-d70cc6b291fa"
      },
      "execution_count": null,
      "outputs": [
        {
          "output_type": "stream",
          "name": "stdout",
          "text": [
            "5\n",
            "13 12 13 12 13\n",
            "12\n"
          ]
        }
      ]
    },
    {
      "cell_type": "code",
      "source": [
        "a=int(input())\n",
        "b=list(map(str,input().split()))\n",
        "c=[]\n",
        "for dup in b:\n",
        "  if dup not in c:\n",
        "    c.append(dup)\n",
        "print(*c)"
      ],
      "metadata": {
        "colab": {
          "base_uri": "https://localhost:8080/"
        },
        "id": "GR02puP3Ua8q",
        "outputId": "88b0b028-0149-4b2e-8fe5-2368bf55f5ae"
      },
      "execution_count": null,
      "outputs": [
        {
          "output_type": "stream",
          "name": "stdout",
          "text": [
            "5\n",
            "A23 B56 B56 C79 D16\n",
            "A23 B56 C79 D16\n"
          ]
        }
      ]
    },
    {
      "cell_type": "code",
      "source": [
        "a=list(map(int,input().split()))\n",
        "b=list(map(int,input().split()))\n",
        "count=0\n",
        "for i in b:\n",
        "  if i==a[1]:\n",
        "    print(\"yes\")\n",
        "    break\n",
        "  else:\n",
        "    count+=1\n",
        "if count==a[0]:\n",
        "  print(\"no\")"
      ],
      "metadata": {
        "colab": {
          "base_uri": "https://localhost:8080/"
        },
        "id": "jlaZnNZceq_M",
        "outputId": "5cc7ed23-e647-4f08-f1f6-1af5b1c1bfec"
      },
      "execution_count": null,
      "outputs": [
        {
          "output_type": "stream",
          "name": "stdout",
          "text": [
            "4 2\n",
            "1 2 3 3\n",
            "yes\n"
          ]
        }
      ]
    },
    {
      "cell_type": "code",
      "source": [
        "a=list(map(int,input().split()))\n",
        "b=[]\n",
        "c=[]\n",
        "result=[]\n",
        "for i in range(a[0]):\n",
        "   b.append(list(map(int,input().split())))\n",
        "for j in range(a[0]):\n",
        "  for k in range(a[1]):\n",
        "    c.append(b[j][k])\n",
        "c.sort()\n",
        "l=1\n",
        "while l<=a[0]*a[1]:\n",
        "  result.append(c[l-1])\n",
        "  if l%3==0:\n",
        "    print(*result)\n",
        "    result=[]\n",
        "  l+=1"
      ],
      "metadata": {
        "colab": {
          "base_uri": "https://localhost:8080/"
        },
        "id": "Bn2QeuRRosEC",
        "outputId": "fa07671b-8ab5-43a1-f7d9-de90c0e35c34"
      },
      "execution_count": null,
      "outputs": [
        {
          "output_type": "stream",
          "name": "stdout",
          "text": [
            "3 3\n",
            "87 21 34\n",
            "89 32 78\n",
            "12 23 45\n",
            "12 21 23\n",
            "32 34 45\n",
            "78 87 89\n"
          ]
        }
      ]
    },
    {
      "cell_type": "code",
      "source": [
        "a=input()\n",
        "b=a\n",
        "print(b)"
      ],
      "metadata": {
        "colab": {
          "base_uri": "https://localhost:8080/"
        },
        "id": "eyZRiTSdzTL8",
        "outputId": "40925f6a-0489-4601-faa9-29333227ebc1"
      },
      "execution_count": null,
      "outputs": [
        {
          "output_type": "stream",
          "name": "stdout",
          "text": [
            "hello world\n",
            "hello world\n"
          ]
        }
      ]
    },
    {
      "cell_type": "code",
      "source": [
        "a=int(input())\n",
        "b=list(map(int,input().split()))\n",
        "temp=0\n",
        "for i in range(a):\n",
        "  temp=temp+b[i]\n",
        "if temp%2==0 and temp%3==0 and temp%5==0:\n",
        "  print(1)\n",
        "else:\n",
        "  print(0)"
      ],
      "metadata": {
        "colab": {
          "base_uri": "https://localhost:8080/"
        },
        "id": "0sCOSdRk0CN5",
        "outputId": "e7e0f3fd-9313-4625-9c00-815b23f64d88"
      },
      "execution_count": null,
      "outputs": [
        {
          "output_type": "stream",
          "name": "stdout",
          "text": [
            "5\n",
            "5 25 35 -5 30\n",
            "1\n"
          ]
        }
      ]
    },
    {
      "cell_type": "code",
      "source": [
        "a=int(input())\n",
        "b=list(map(int,input().split()))\n",
        "c=int(input())\n",
        "d=[]\n",
        "for j in range(a-(c-1)):\n",
        "  count=0\n",
        "  for i in range(c):\n",
        "    if b[0+j+i]<0:\n",
        "      temp=-(j+1+i)\n",
        "      d.append(temp)\n",
        "      break\n",
        "    if b[0+j+i]>=0:\n",
        "      count+=1\n",
        "    if count==c:\n",
        "      d.append(0)\n",
        "print(*d)\n"
      ],
      "metadata": {
        "colab": {
          "base_uri": "https://localhost:8080/"
        },
        "id": "7YrQxeKV-1UT",
        "outputId": "cdf1911c-faf0-425b-960f-8ec3a2d59065"
      },
      "execution_count": null,
      "outputs": [
        {
          "output_type": "stream",
          "name": "stdout",
          "text": [
            "7\n",
            "1 2 3 4 5 6 7\n",
            "3\n",
            "0 0 0 0 0\n"
          ]
        }
      ]
    },
    {
      "cell_type": "code",
      "source": [
        "a=int(input())\n",
        "b=list(map(str,input().split()))\n",
        "c={b[i+1]: b[i] for i in range(0, len(b), 2)}   #use this method for dict...very very useful\n",
        "print(c)\n",
        "klist=list(c.keys())\n",
        "klist.sort()\n",
        "for i in klist :\n",
        "    print(c[i])"
      ],
      "metadata": {
        "colab": {
          "base_uri": "https://localhost:8080/"
        },
        "id": "zqGr-mYmOeTQ",
        "outputId": "fa04ff9b-fda9-4746-bfa8-46d72d3a8191"
      },
      "execution_count": null,
      "outputs": [
        {
          "output_type": "stream",
          "name": "stdout",
          "text": [
            "3\n",
            "Karthik 23000 rohan 81734 varshini 12343\n",
            "{'23000': 'Karthik', '81734': 'rohan', '12343': 'varshini'}\n",
            "varshini\n",
            "Karthik\n",
            "rohan\n"
          ]
        }
      ]
    },
    {
      "cell_type": "code",
      "source": [
        "a=int(input())\n",
        "a=a*2\n",
        "b={}\n",
        "for i in range(1,a+1):\n",
        "  b[i]=list(map(int,input().split()))\n",
        "temp=[]\n",
        "for j in range(2,a+1,2):\n",
        "  b[j].sort()\n",
        "  temp.append(b[j])\n",
        "for k in range(len(temp)-1):\n",
        "  print(*temp[k],end=\" \")\n",
        "print(*temp[len(temp)-1])"
      ],
      "metadata": {
        "colab": {
          "base_uri": "https://localhost:8080/"
        },
        "id": "CmBUhNkiKHeJ",
        "outputId": "d3ec3374-fc4e-4263-e926-6c18b00fdf12"
      },
      "execution_count": null,
      "outputs": [
        {
          "output_type": "stream",
          "name": "stdout",
          "text": [
            "3\n",
            "2\n",
            "98 12\n",
            "6\n",
            "1 2 3 8 5 9\n",
            "1 \n",
            "11\n",
            "12 98 1 2 3 5 8 9 11\n"
          ]
        }
      ]
    },
    {
      "cell_type": "code",
      "source": [
        "a=input()\n",
        "b=[]\n",
        "for i in a:\n",
        "  i=int(i)\n",
        "  b.append(i)\n",
        "for j in range(len(b)-1):\n",
        "  if b[j]==b[j+1]:\n",
        "    b.remove(b[j])\n",
        "    b.remove(b[j])\n",
        "    break\n",
        "if len(a)>len(b):\n",
        "  for k in range(len(b)):\n",
        "    print(b[k],end=\"\")\n",
        "else:\n",
        "  print(a)  "
      ],
      "metadata": {
        "colab": {
          "base_uri": "https://localhost:8080/"
        },
        "id": "8O1eNzNScvXY",
        "outputId": "8681e78c-2985-4c14-9310-eaf1ea39e5dc"
      },
      "execution_count": null,
      "outputs": [
        {
          "output_type": "stream",
          "name": "stdout",
          "text": [
            "156879\n",
            "156879\n"
          ]
        }
      ]
    },
    {
      "cell_type": "code",
      "source": [
        "a=int(input())\n",
        "b=list(map(int,input().split()))\n",
        "c=max(b)\n",
        "d=min(b)\n",
        "temp=0\n",
        "for i in range(a):\n",
        "  if b[i]==c:\n",
        "    temp=i\n",
        "  if b[i]==d:\n",
        "    temp=temp-i\n",
        "print(temp)\n"
      ],
      "metadata": {
        "colab": {
          "base_uri": "https://localhost:8080/"
        },
        "id": "5ILyjQDBMHJa",
        "outputId": "506bb39c-2cbc-4dec-ae0a-a63bb3e6f043"
      },
      "execution_count": null,
      "outputs": [
        {
          "output_type": "stream",
          "name": "stdout",
          "text": [
            "5\n",
            "1 6 4 0 3\n",
            "-2\n"
          ]
        }
      ]
    },
    {
      "cell_type": "code",
      "source": [
        "a=int(input())\n",
        "b=list(map(int,input().split()))\n",
        "c=[]\n",
        "d=b.copy()\n",
        "d.sort()\n",
        "temp=0\n",
        "for i in d:\n",
        "  temp=b[i]\n",
        "  temp=b[temp]\n",
        "  c.append(temp)\n",
        "print(*c)"
      ],
      "metadata": {
        "colab": {
          "base_uri": "https://localhost:8080/"
        },
        "id": "nKGIQ9lI3oBR",
        "outputId": "c3710f74-078f-42c4-b70d-640899fe7fa1"
      },
      "execution_count": null,
      "outputs": [
        {
          "output_type": "stream",
          "name": "stdout",
          "text": [
            "5\n",
            "4 0 2 1 3\n",
            "3 4 2 0 1\n"
          ]
        }
      ]
    }
  ]
}