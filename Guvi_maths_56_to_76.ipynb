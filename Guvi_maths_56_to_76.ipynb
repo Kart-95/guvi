{
  "nbformat": 4,
  "nbformat_minor": 0,
  "metadata": {
    "colab": {
      "provenance": [],
      "authorship_tag": "ABX9TyPiSS9JJDUKf6r+0OnaTXwF",
      "include_colab_link": true
    },
    "kernelspec": {
      "name": "python3",
      "display_name": "Python 3"
    },
    "language_info": {
      "name": "python"
    }
  },
  "cells": [
    {
      "cell_type": "markdown",
      "metadata": {
        "id": "view-in-github",
        "colab_type": "text"
      },
      "source": [
        "<a href=\"https://colab.research.google.com/github/Kart-95/guvi/blob/main/Guvi_maths_56_to_76.ipynb\" target=\"_parent\"><img src=\"https://colab.research.google.com/assets/colab-badge.svg\" alt=\"Open In Colab\"/></a>"
      ]
    },
    {
      "cell_type": "code",
      "execution_count": null,
      "metadata": {
        "colab": {
          "base_uri": "https://localhost:8080/"
        },
        "id": "g3xQ4LSV6IxY",
        "outputId": "2c07441e-c300-4890-bdec-aad9a4a8fcaf"
      },
      "outputs": [
        {
          "output_type": "stream",
          "name": "stdout",
          "text": [
            "9\n",
            "1\n"
          ]
        }
      ],
      "source": [
        "a=int(input())\n",
        "b=[]\n",
        "for i in range(1,a+1):\n",
        "  if a%i==0:\n",
        "    c=a/i\n",
        "    if c%2!=0:\n",
        "      b.append(i)\n",
        "b.sort()\n",
        "print(b[0])"
      ]
    },
    {
      "cell_type": "code",
      "source": [
        "a=list(map(int,input().split()))\n",
        "b=10*(a[0]-1)\n",
        "c=(a[0]-1)*a[1]\n",
        "d=b-c\n",
        "print(d)"
      ],
      "metadata": {
        "id": "B64AzitIF979"
      },
      "execution_count": null,
      "outputs": []
    },
    {
      "cell_type": "code",
      "source": [
        "def finestnumber():\n",
        "  e=[]\n",
        "  for i in range(1,50):\n",
        "    d=i+1\n",
        "    c=(i*i*i)+(d*d*d)  \n",
        "    for j in range(a):\n",
        "      if b[j]==c:\n",
        "        e.append(b[j])\n",
        "  return e\n",
        "a=int(input())\n",
        "b=list(map(int,input().split()))\n",
        "print(*finestnumber())"
      ],
      "metadata": {
        "colab": {
          "base_uri": "https://localhost:8080/"
        },
        "id": "aOlehdAxji4E",
        "outputId": "fd1af10a-0a38-4c5b-df31-46d40f3a0acf"
      },
      "execution_count": null,
      "outputs": [
        {
          "output_type": "stream",
          "name": "stdout",
          "text": [
            "2\n",
            "1729 189\n",
            "189 1729\n"
          ]
        }
      ]
    },
    {
      "cell_type": "code",
      "source": [
        "a=list(map(int,input().split()))\n",
        "b=list(map(int,input().split()))\n",
        "c=list(map(int,input().split()))\n",
        "for i in range(2):\n",
        "  if a[0]>a[1]:\n",
        "    print(\"no\")\n",
        "    break\n",
        "  elif b[0]>b[1]:\n",
        "    print(\"no\")\n",
        "    break\n",
        "  elif c[0]>c[1]:\n",
        "    print(\"no\")\n",
        "    break\n",
        "  else:\n",
        "    print(\"yes\")\n",
        "    break"
      ],
      "metadata": {
        "colab": {
          "base_uri": "https://localhost:8080/"
        },
        "id": "HnuaIRncRZBN",
        "outputId": "366e80cf-aaa8-40df-901a-bab1c1837389"
      },
      "execution_count": null,
      "outputs": [
        {
          "output_type": "stream",
          "name": "stdout",
          "text": [
            "0 1\n",
            "0 0\n",
            "0 2\n",
            "yes\n"
          ]
        }
      ]
    },
    {
      "cell_type": "code",
      "source": [
        "a=int(input())\n",
        "b=1\n",
        "count=0\n",
        "for i in range(1,a+1):\n",
        "  count+=1\n",
        "  b=b*2\n",
        "  if b==a:\n",
        "    print(\"yes\")\n",
        "    break\n",
        "if count==a:\n",
        "  print(\"no\")"
      ],
      "metadata": {
        "colab": {
          "base_uri": "https://localhost:8080/"
        },
        "id": "GdnL99T1Xjyy",
        "outputId": "28698bb4-13ba-4275-e160-a0ea541c1dbb"
      },
      "execution_count": null,
      "outputs": [
        {
          "output_type": "stream",
          "name": "stdout",
          "text": [
            "64\n",
            "yes\n"
          ]
        }
      ]
    },
    {
      "cell_type": "code",
      "source": [
        "a=int(input())\n",
        "prime=[]\n",
        "temp=a\n",
        "square=[]\n",
        "for i in range(2,100):\n",
        "  count=0\n",
        "  for j in range(1,100):\n",
        "    if i%j==0:\n",
        "      count+=1\n",
        "  if count==2:\n",
        "    prime.append(i)\n",
        "for l in range(50):\n",
        "  for k in range(len(prime)):\n",
        "    if temp%prime[k]==0:\n",
        "      temp=temp/prime[k]\n",
        "      square.append(prime[k])\n",
        "  if temp==1:\n",
        "    break\n",
        "square.sort()\n",
        "print(len(square))\n",
        "    "
      ],
      "metadata": {
        "id": "K4hltGEhbpl1",
        "colab": {
          "base_uri": "https://localhost:8080/"
        },
        "outputId": "2e120cd6-7171-4b27-ef9c-bad5eddcc742"
      },
      "execution_count": null,
      "outputs": [
        {
          "output_type": "stream",
          "name": "stdout",
          "text": [
            "9\n",
            "2\n"
          ]
        }
      ]
    },
    {
      "cell_type": "code",
      "source": [
        "a=int(input())\n",
        "b=list(map(int,input().split()))\n",
        "b.sort()\n",
        "print(b[0])"
      ],
      "metadata": {
        "colab": {
          "base_uri": "https://localhost:8080/"
        },
        "id": "Vz0AW9FKGWEe",
        "outputId": "e6884ee9-d890-45f5-a67d-e7b8ea8ee495"
      },
      "execution_count": null,
      "outputs": [
        {
          "output_type": "stream",
          "name": "stdout",
          "text": [
            "5\n",
            "3 4 9 1 6\n",
            "1\n"
          ]
        }
      ]
    },
    {
      "cell_type": "code",
      "source": [
        "a=list(map(int,input().split()))\n",
        "b=1\n",
        "c=0\n",
        "for i in range(a[0]+1):\n",
        "  b=a[1]*b\n",
        "  if b==a[0]:\n",
        "    print(\"yes\")\n",
        "    c+=1\n",
        "    break\n",
        "if c==0:\n",
        "  print(\"no\")\n"
      ],
      "metadata": {
        "colab": {
          "base_uri": "https://localhost:8080/"
        },
        "id": "Usxl2GAaGrAf",
        "outputId": "10dc8dcc-9a7e-40c2-a579-677b1849b2f3"
      },
      "execution_count": null,
      "outputs": [
        {
          "output_type": "stream",
          "name": "stdout",
          "text": [
            "64 8\n",
            "yes\n"
          ]
        }
      ]
    },
    {
      "cell_type": "code",
      "source": [
        "a=input()\n",
        "if a.isnumeric():\n",
        "  print(\"yes\")\n",
        "else:\n",
        "  print(\"no\")"
      ],
      "metadata": {
        "colab": {
          "base_uri": "https://localhost:8080/"
        },
        "id": "9fyfWcijIHbh",
        "outputId": "d2c49774-9bec-45aa-fb6e-d31152daa869"
      },
      "execution_count": null,
      "outputs": [
        {
          "output_type": "stream",
          "name": "stdout",
          "text": [
            "guvi\n",
            "no\n"
          ]
        }
      ]
    },
    {
      "cell_type": "code",
      "source": [
        "a=input()\n",
        "b=0\n",
        "c=[]\n",
        "d=[]\n",
        "for i in range(len(a)):\n",
        "  b=int(a[i])\n",
        "  c.append(b)\n",
        "for k in range(len(a)):\n",
        "  count=0\n",
        "  for j in range(i,len(a)):\n",
        "    if c[k]==c[j]:\n",
        "      count+=1\n",
        "  d.append(count)\n",
        "d.sort()\n",
        "temp=0\n",
        "if len(a)%2!=0:\n",
        "  print(\"0\")\n",
        "else:\n",
        "  for loop in range(0,len(a),2):\n",
        "    if d[loop]==d[loop+1]:\n",
        "      temp+=1\n",
        "  if temp==len(a)/2:\n",
        "    print(\"1\")\n",
        "  else:\n",
        "    print(\"0\")\n",
        "\n"
      ],
      "metadata": {
        "colab": {
          "base_uri": "https://localhost:8080/"
        },
        "id": "Hqs6VDu4IrAc",
        "outputId": "a8eae289-ea41-4758-dec8-eb3d4066f1e6"
      },
      "execution_count": null,
      "outputs": [
        {
          "output_type": "stream",
          "name": "stdout",
          "text": [
            "1212\n",
            "1\n"
          ]
        }
      ]
    },
    {
      "cell_type": "code",
      "source": [
        "a=int(input())\n",
        "j=1\n",
        "for i in range(1,a+1):\n",
        "  j+=2\n",
        "  b=j*i*i\n",
        "print(b)"
      ],
      "metadata": {
        "id": "Fa-vIQSmQblR",
        "colab": {
          "base_uri": "https://localhost:8080/"
        },
        "outputId": "13886052-721d-4f18-fa0d-ef8f18629b67"
      },
      "execution_count": null,
      "outputs": [
        {
          "output_type": "stream",
          "name": "stdout",
          "text": [
            "4\n",
            "144\n"
          ]
        }
      ]
    },
    {
      "cell_type": "code",
      "source": [
        "a=list(map(int,input().split()))  #since prime numbers cannot be turned into length and width\n",
        "count=0\n",
        "for i in range(1,a[1]+1):\n",
        "  if a[1]%i==0:\n",
        "    count+=1\n",
        "if count<=2:\n",
        "  print(\"no\")\n",
        "else:\n",
        "  print(\"yes\")"
      ],
      "metadata": {
        "colab": {
          "base_uri": "https://localhost:8080/"
        },
        "id": "UnQHqmWLVJDy",
        "outputId": "2e8440d7-c511-4449-f2af-3175095474b7"
      },
      "execution_count": null,
      "outputs": [
        {
          "output_type": "stream",
          "name": "stdout",
          "text": [
            "20 23\n",
            "no\n"
          ]
        }
      ]
    },
    {
      "cell_type": "code",
      "source": [
        "a=list(map(int,input().split()))\n",
        "b=(a[0]*a[2])+a[1]\n",
        "print(b)"
      ],
      "metadata": {
        "colab": {
          "base_uri": "https://localhost:8080/"
        },
        "id": "z2d8nNb4s7xi",
        "outputId": "ac47850d-60fd-482e-b51b-72923eb47843"
      },
      "execution_count": null,
      "outputs": [
        {
          "output_type": "stream",
          "name": "stdout",
          "text": [
            "3 5 2\n",
            "11\n"
          ]
        }
      ]
    },
    {
      "cell_type": "code",
      "source": [
        "a=list(map(int,input().split()))\n",
        "b=1\n",
        "c=1\n",
        "d=a[0]-a[1]\n",
        "for i in range(1,a[0]+1):\n",
        "  b=b*i\n",
        "for j in range(1,d+1):\n",
        "  c=c*j\n",
        "result=b/c\n",
        "print(int(result))"
      ],
      "metadata": {
        "colab": {
          "base_uri": "https://localhost:8080/"
        },
        "id": "vW9fJWADumCM",
        "outputId": "288cb41b-7912-41ff-9cac-68c8d4a3b7a9"
      },
      "execution_count": null,
      "outputs": [
        {
          "output_type": "stream",
          "name": "stdout",
          "text": [
            "5 2\n",
            "20\n"
          ]
        }
      ]
    },
    {
      "cell_type": "code",
      "source": [
        "a=int(input())\n",
        "b=[]\n",
        "c=[]\n",
        "for i in range(1,a+1):\n",
        "  if a%i==0:\n",
        "    b.append(i)\n",
        "for j in range(len(b)):\n",
        "  if b[j]%2!=0:\n",
        "    c.append(b[j])\n",
        "print(*c)"
      ],
      "metadata": {
        "colab": {
          "base_uri": "https://localhost:8080/"
        },
        "id": "V5zJYdSiKCAt",
        "outputId": "c26cd024-7af6-4152-df6a-6516f5c46a1d"
      },
      "execution_count": null,
      "outputs": [
        {
          "output_type": "stream",
          "name": "stdout",
          "text": [
            "9\n",
            "1 3 9\n"
          ]
        }
      ]
    },
    {
      "cell_type": "code",
      "source": [
        "a=int(input())\n",
        "b=list(map(int,input().split()))\n",
        "temp=0\n",
        "for i in range(0,a-1,2):\n",
        "  temp=b[i]\n",
        "  b[i]=b[i+1]\n",
        "  b[i+1]=temp\n",
        "print(*b)"
      ],
      "metadata": {
        "colab": {
          "base_uri": "https://localhost:8080/"
        },
        "id": "yTS_7MWDMH2I",
        "outputId": "b12fae21-d10f-4d61-817f-6c7b3b020dcf"
      },
      "execution_count": null,
      "outputs": [
        {
          "output_type": "stream",
          "name": "stdout",
          "text": [
            "5\n",
            "3 2 1 2 3\n",
            "2 3 2 1 3\n"
          ]
        }
      ]
    },
    {
      "cell_type": "code",
      "source": [
        "a=input()\n",
        "b=[]\n",
        "count=0\n",
        "for i in range(len(a)):\n",
        "  c=int(a[i])\n",
        "  b.append(c)\n",
        "for j in range(len(b)-1):\n",
        "  for k in range(j+1,len(b)):\n",
        "    if b[j]==b[k]:\n",
        "      count+=1\n",
        "      break\n",
        "if count>=1:\n",
        "  print(\"yes\")\n",
        "else:\n",
        "  print(\"no\")"
      ],
      "metadata": {
        "colab": {
          "base_uri": "https://localhost:8080/"
        },
        "id": "EIP4C2f1Ps9A",
        "outputId": "c66d6df7-a81b-40ad-e9a7-88b05a49b617"
      },
      "execution_count": null,
      "outputs": [
        {
          "output_type": "stream",
          "name": "stdout",
          "text": [
            "11234\n",
            "yes\n"
          ]
        }
      ]
    },
    {
      "cell_type": "code",
      "source": [
        "a=input()\n",
        "b=[]\n",
        "d=0\n",
        "hex={'A':10, 'B':11, 'C':12, 'D':13, 'E':14, 'F':15}\n",
        "for i in range(len(a)):\n",
        "  x=a[i].isdigit()\n",
        "  if x==False:\n",
        "    c=hex[a[i]]\n",
        "    b.append(c)\n",
        "  elif x==True:\n",
        "    c=int(a[i])\n",
        "    b.append(c)\n",
        "k=0\n",
        "for j in range(len(a)-1,-1,-1):\n",
        "  temp=1\n",
        "  for loop in range(j):\n",
        "    temp=temp*16\n",
        "  d=d+(b[k]*temp)\n",
        "  k+=1\n",
        "print(d)\n"
      ],
      "metadata": {
        "colab": {
          "base_uri": "https://localhost:8080/"
        },
        "id": "dxBC8uEZW6Vu",
        "outputId": "547b97d3-d927-499a-c874-85a132027949"
      },
      "execution_count": null,
      "outputs": [
        {
          "output_type": "stream",
          "name": "stdout",
          "text": [
            "D6A\n",
            "3434\n"
          ]
        }
      ]
    },
    {
      "cell_type": "code",
      "source": [
        "a=input()\n",
        "b=[]\n",
        "d=0\n",
        "for i in range(len(a)):\n",
        "  c=int(a[i])\n",
        "  b.append(c)\n",
        "k=0\n",
        "for j in range(len(a)-1,-1,-1):\n",
        "  temp=1\n",
        "  for loop in range(j):\n",
        "    temp=temp*2\n",
        "  d=d+(b[k]*temp)\n",
        "  k+=1\n",
        "print(d)"
      ],
      "metadata": {
        "colab": {
          "base_uri": "https://localhost:8080/"
        },
        "id": "RF7CIbuZIq_2",
        "outputId": "a7a9e075-e74c-4863-f2fc-961250bf6c20"
      },
      "execution_count": null,
      "outputs": [
        {
          "output_type": "stream",
          "name": "stdout",
          "text": [
            "101\n",
            "5\n"
          ]
        }
      ]
    },
    {
      "cell_type": "code",
      "source": [
        "a=int(input())\n",
        "b=1\n",
        "for i in range(1,a+1):\n",
        "  b=b*i\n",
        "print(b)"
      ],
      "metadata": {
        "colab": {
          "base_uri": "https://localhost:8080/"
        },
        "id": "S9tYb6slJZWD",
        "outputId": "55c69a1d-30d1-4d24-de1d-1580ef87479f"
      },
      "execution_count": null,
      "outputs": [
        {
          "output_type": "stream",
          "name": "stdout",
          "text": [
            "5\n",
            "120\n"
          ]
        }
      ]
    },
    {
      "cell_type": "code",
      "source": [
        "a=list(map(int,input().split()))\n",
        "b=[]\n",
        "c=[]\n",
        "d=[]\n",
        "a[1]=abs(a[1])\n",
        "for i in range(1,a[0]+1):\n",
        "  if a[0]%i==0:\n",
        "    b.append(i)\n",
        "b.sort()\n",
        "for j in range(1,a[1]+1):\n",
        "  if a[1]%j==0:\n",
        "    c.append(j)\n",
        "c.sort()\n",
        "for k in range(len(b)):\n",
        "  for l in range(len(c)):\n",
        "    if b[k]==c[l]:\n",
        "      d.append(b[k])\n",
        "if len(d)==0:\n",
        "  print(\"-1\")\n",
        "else:\n",
        "  d.sort()\n",
        "  d.reverse()\n",
        "  print(d[0])"
      ],
      "metadata": {
        "colab": {
          "base_uri": "https://localhost:8080/"
        },
        "id": "oLLjpNeTYus1",
        "outputId": "8955a5c6-8d21-4371-db84-3d681269a757"
      },
      "execution_count": null,
      "outputs": [
        {
          "output_type": "stream",
          "name": "stdout",
          "text": [
            "37 -73\n",
            "[1, 73]\n",
            "1\n"
          ]
        }
      ]
    }
  ]
}