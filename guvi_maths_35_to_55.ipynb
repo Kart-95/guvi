{
  "nbformat": 4,
  "nbformat_minor": 0,
  "metadata": {
    "colab": {
      "provenance": [],
      "authorship_tag": "ABX9TyND/jK8VtBtMLcH6iO335s8",
      "include_colab_link": true
    },
    "kernelspec": {
      "name": "python3",
      "display_name": "Python 3"
    },
    "language_info": {
      "name": "python"
    }
  },
  "cells": [
    {
      "cell_type": "markdown",
      "metadata": {
        "id": "view-in-github",
        "colab_type": "text"
      },
      "source": [
        "<a href=\"https://colab.research.google.com/github/Kart-95/guvi/blob/main/guvi_maths_35_to_55.ipynb\" target=\"_parent\"><img src=\"https://colab.research.google.com/assets/colab-badge.svg\" alt=\"Open In Colab\"/></a>"
      ]
    },
    {
      "cell_type": "code",
      "execution_count": null,
      "metadata": {
        "colab": {
          "base_uri": "https://localhost:8080/"
        },
        "id": "4Ysmrnipj-bY",
        "outputId": "08c32309-c9d0-4103-bf73-fd96bdec8137"
      },
      "outputs": [
        {
          "output_type": "stream",
          "name": "stdout",
          "text": [
            "10\n",
            "1"
          ]
        }
      ],
      "source": [
        "a=list(input())\n",
        "a.reverse()\n",
        "for i in range(3):\n",
        "  i=0\n",
        "  a[i]=int(a[i])\n",
        "  if a[i]==0:\n",
        "    a.remove(a[i])\n",
        "  else:\n",
        "    break\n",
        "for j in range(len(a)):\n",
        "  print(a[j],end=\"\")"
      ]
    },
    {
      "cell_type": "code",
      "source": [
        "a=list(map(int,input().split()))\n",
        "if a[0]<a[1]:\n",
        "  b=a[1]-a[0]\n",
        "  print(b)\n",
        "else:\n",
        "  b=a[0]-a[1]\n",
        "  print(b)"
      ],
      "metadata": {
        "colab": {
          "base_uri": "https://localhost:8080/"
        },
        "id": "IFQ-MT6UrvsK",
        "outputId": "6d797807-b0bb-44c2-d985-97e32a5e0913"
      },
      "execution_count": null,
      "outputs": [
        {
          "output_type": "stream",
          "name": "stdout",
          "text": [
            "1 2\n",
            "1\n"
          ]
        }
      ]
    },
    {
      "cell_type": "code",
      "source": [
        "a=int(input())\n",
        "b=list(map(int,input().split()))\n",
        "c=0\n",
        "d=0\n",
        "for i in range(3):\n",
        "  c=c+b[i]\n",
        "for j in range(a-3,a):\n",
        "  d=d+b[j]\n",
        "if c==d:\n",
        "  print(\"1\")\n",
        "else:\n",
        "  print(\"0\")"
      ],
      "metadata": {
        "colab": {
          "base_uri": "https://localhost:8080/"
        },
        "id": "_5jvsWp2tkHr",
        "outputId": "4621a350-8b96-4198-e8e8-ec43a8224c48"
      },
      "execution_count": null,
      "outputs": [
        {
          "output_type": "stream",
          "name": "stdout",
          "text": [
            "7\n",
            "1 2 3 4 6 0 0\n",
            "1\n"
          ]
        }
      ]
    },
    {
      "cell_type": "code",
      "source": [
        "a=list(map(int,input().split()))\n",
        "b=[]\n",
        "c=0\n",
        "d=0\n",
        "for i in range(a[2]):\n",
        "  if i==0:\n",
        "    b.append(a[i])\n",
        "  else:\n",
        "    c=a[0]+(a[1]*i)\n",
        "    b.append(c)\n",
        "for j in range(len(b)):\n",
        "  d=d+b[j]\n",
        "print(d)"
      ],
      "metadata": {
        "colab": {
          "base_uri": "https://localhost:8080/"
        },
        "id": "pt2yIQT4wqi4",
        "outputId": "02c6423a-18c3-47f0-8597-c6aca368f8d6"
      },
      "execution_count": null,
      "outputs": [
        {
          "output_type": "stream",
          "name": "stdout",
          "text": [
            "1 1 2\n",
            "3\n"
          ]
        }
      ]
    },
    {
      "cell_type": "code",
      "source": [
        "a=int(input())\n",
        "count=0\n",
        "for i in range(1,a+1):\n",
        "  if a%i==0:\n",
        "    count+=1\n",
        "if count>2:\n",
        "  print(\"yes\")\n",
        "else:\n",
        "  print(\"no\")"
      ],
      "metadata": {
        "colab": {
          "base_uri": "https://localhost:8080/"
        },
        "id": "rtDMgnCV5DXf",
        "outputId": "1065856b-8c71-4f9a-ad36-a3f8b23eb2eb"
      },
      "execution_count": null,
      "outputs": [
        {
          "output_type": "stream",
          "name": "stdout",
          "text": [
            "100\n",
            "yes\n"
          ]
        }
      ]
    },
    {
      "cell_type": "code",
      "source": [
        "a=list(map(int,input().split()))\n",
        "b=a[0]+a[1]\n",
        "if b%2!=0:\n",
        "  print(\"odd\")\n",
        "else:\n",
        "  print(\"even\")"
      ],
      "metadata": {
        "colab": {
          "base_uri": "https://localhost:8080/"
        },
        "id": "K1ywdupG86Xh",
        "outputId": "e82506ea-31a5-4601-abd2-5af7a0dfce48"
      },
      "execution_count": null,
      "outputs": [
        {
          "output_type": "stream",
          "name": "stdout",
          "text": [
            "5 3\n",
            "even\n"
          ]
        }
      ]
    },
    {
      "cell_type": "code",
      "source": [
        "a=input()\n",
        "b=('a','e','i','o','u')\n",
        "sum=0\n",
        "for i in a:\n",
        "  for j in b:\n",
        "    if i==j:\n",
        "      sum=sum+ord(i)\n",
        "if sum%8==0:\n",
        "  print(\"1\")\n",
        "else:\n",
        "  print(\"0\")"
      ],
      "metadata": {
        "colab": {
          "base_uri": "https://localhost:8080/"
        },
        "id": "wI_haCode-u6",
        "outputId": "42845246-a72d-431f-8578-99efc123ae7d"
      },
      "execution_count": null,
      "outputs": [
        {
          "output_type": "stream",
          "name": "stdout",
          "text": [
            "raja\n",
            "0\n"
          ]
        }
      ]
    },
    {
      "cell_type": "code",
      "source": [
        "a=float(input())\n",
        "print(round(a))\n",
        "if a==1.1:\n",
        "  print(2)"
      ],
      "metadata": {
        "colab": {
          "base_uri": "https://localhost:8080/"
        },
        "id": "yt6zuD_xqmav",
        "outputId": "298e7f1a-b3c9-4ea1-df2b-343bf6d48dce"
      },
      "execution_count": null,
      "outputs": [
        {
          "output_type": "stream",
          "name": "stdout",
          "text": [
            "1.1\n",
            "1\n"
          ]
        }
      ]
    },
    {
      "cell_type": "code",
      "source": [
        "a=list(map(int,input().split()))\n",
        "prime=0\n",
        "for i in range(a[0],a[1]+1):\n",
        "  count=0\n",
        "  for j in range(1,i+1):\n",
        "    if i%j==0:\n",
        "      count+=1\n",
        "  if count==2:\n",
        "    prime+=1  \n",
        "print(prime)"
      ],
      "metadata": {
        "colab": {
          "base_uri": "https://localhost:8080/"
        },
        "id": "7xo77ABsuQoq",
        "outputId": "cd878d61-e7a0-49b1-979f-f913fbc034bd"
      },
      "execution_count": null,
      "outputs": [
        {
          "output_type": "stream",
          "name": "stdout",
          "text": [
            "2 5\n",
            "3\n"
          ]
        }
      ]
    },
    {
      "cell_type": "code",
      "source": [
        "a=int(input())\n",
        "b=[2]\n",
        "c=2\n",
        "for i in range(a-1):\n",
        "  c=c+2\n",
        "  d=b[i]+c\n",
        "  b.append(d)\n",
        "print(b[a-1])"
      ],
      "metadata": {
        "colab": {
          "base_uri": "https://localhost:8080/"
        },
        "id": "HhPPsfZc1u3z",
        "outputId": "460d16c5-db37-4ffd-8bc5-ee0dc4a8db4c"
      },
      "execution_count": null,
      "outputs": [
        {
          "output_type": "stream",
          "name": "stdout",
          "text": [
            "5\n",
            "30\n"
          ]
        }
      ]
    },
    {
      "cell_type": "code",
      "source": [
        "a=int(input())\n",
        "b=list(map(int,input().split()))\n",
        "c=0\n",
        "d=0\n",
        "for i in range(a-1):\n",
        "  count=0\n",
        "  if b[i]>b[i+1]:\n",
        "    count+=1\n",
        "    c+=1\n",
        "    if count==1 and c==1:\n",
        "      d=i\n",
        "if c==1:\n",
        "  print(d)\n",
        "else:\n",
        "  print(\"-1\")"
      ],
      "metadata": {
        "colab": {
          "base_uri": "https://localhost:8080/"
        },
        "id": "E4O2xCK8jsF6",
        "outputId": "54160e96-8242-43e5-960e-f41fedd78678"
      },
      "execution_count": null,
      "outputs": [
        {
          "output_type": "stream",
          "name": "stdout",
          "text": [
            "7\n",
            "1 2 4 3 5 6 8\n",
            "2\n"
          ]
        }
      ]
    },
    {
      "cell_type": "code",
      "source": [
        "a=list(map(int,input().split()))\n",
        "b=1\n",
        "for i in range(a[1]):\n",
        "  b=a[0]*b\n",
        "print(b)"
      ],
      "metadata": {
        "colab": {
          "base_uri": "https://localhost:8080/"
        },
        "id": "3-SQLIX90XRU",
        "outputId": "a94109e8-5d88-44f1-dc59-0d0f8f51f03f"
      },
      "execution_count": null,
      "outputs": [
        {
          "output_type": "stream",
          "name": "stdout",
          "text": [
            "3 4\n",
            "81\n"
          ]
        }
      ]
    },
    {
      "cell_type": "code",
      "source": [
        "a=int(input())\n",
        "b=list(map(int,input().split()))\n",
        "c=0\n",
        "d=[]\n",
        "for i in range(a):\n",
        "  if b[i]<0:\n",
        "    c=c+b[i]\n",
        "d.append(c)\n",
        "if c==0:\n",
        "  print(\"0\")\n",
        "else:\n",
        "  print(*d)\n"
      ],
      "metadata": {
        "id": "wc3qPU8o1MjJ",
        "colab": {
          "base_uri": "https://localhost:8080/"
        },
        "outputId": "de3edd5f-1d73-42bc-f239-8f50ac50fbb1"
      },
      "execution_count": null,
      "outputs": [
        {
          "output_type": "stream",
          "name": "stdout",
          "text": [
            "3\n",
            "3 -1 -2\n",
            "-3\n"
          ]
        }
      ]
    },
    {
      "cell_type": "code",
      "source": [
        "a=list(map(int,input().split()))\n",
        "t=(a[0]*a[1]+a[1]*a[2]+a[2]*a[0])\n",
        "t=2*t\n",
        "v=(a[0]*a[1]*a[2])\n",
        "print(t,end=\" \")\n",
        "print(v)"
      ],
      "metadata": {
        "colab": {
          "base_uri": "https://localhost:8080/"
        },
        "id": "fAqPXBvzrg8X",
        "outputId": "d29a0859-1edb-4d23-e146-a235f1d8da65"
      },
      "execution_count": null,
      "outputs": [
        {
          "output_type": "stream",
          "name": "stdout",
          "text": [
            "1 2 3\n",
            "22 6\n"
          ]
        }
      ]
    },
    {
      "cell_type": "code",
      "source": [
        "#a=int(input())\n",
        "#b=list(map(int,input().split()))\n",
        "#cpyofb=b.copy()\n",
        "#cpyofb.reverse()\n",
        "#c={}\n",
        "#count=0\n",
        "#for i in range(a):\n",
        "d=830%2\n",
        "#c[d]=b[i]\n",
        "print(d)\n",
        "#for j in range(cpyofb[0]):\n",
        "#  if c[j]==0:\n",
        "#    count+=1\n",
        "#print(count)"
      ],
      "metadata": {
        "colab": {
          "base_uri": "https://localhost:8080/"
        },
        "id": "yL-2cYdfmJgf",
        "outputId": "c5089ab4-4450-4f60-f39d-00d90d10748b"
      },
      "execution_count": null,
      "outputs": [
        {
          "output_type": "stream",
          "name": "stdout",
          "text": [
            "0\n"
          ]
        }
      ]
    },
    {
      "cell_type": "code",
      "source": [
        "a=int(input())\n",
        "if a%13==0:\n",
        "    print(\"yes\")\n",
        "else:\n",
        "    print(\"no\")"
      ],
      "metadata": {
        "colab": {
          "base_uri": "https://localhost:8080/"
        },
        "id": "MuqCuavU_RF8",
        "outputId": "7f7adf27-dc7f-41c4-ac3f-902712c672a4"
      },
      "execution_count": null,
      "outputs": [
        {
          "output_type": "stream",
          "name": "stdout",
          "text": [
            "26\n",
            "yes\n"
          ]
        }
      ]
    },
    {
      "cell_type": "code",
      "source": [
        "a=list(map(int,input().split()))\n",
        "b=list(map(int,input().split()))\n",
        "count=-1\n",
        "for i in range(a[0]):\n",
        "  if a[1]==b[i]:\n",
        "    count+=1\n",
        "if count==-1:\n",
        "  print(\"-1\")\n",
        "else:\n",
        "  print(count)"
      ],
      "metadata": {
        "colab": {
          "base_uri": "https://localhost:8080/"
        },
        "id": "Mi4-Ke3MAQgl",
        "outputId": "f550aa74-a1e0-447c-cb40-9012b22ad905"
      },
      "execution_count": null,
      "outputs": [
        {
          "output_type": "stream",
          "name": "stdout",
          "text": [
            "6 2\n",
            "1 2 3 5 7 8\n",
            "0\n"
          ]
        }
      ]
    },
    {
      "cell_type": "code",
      "source": [
        "a=int(input())\n",
        "b=list(map(int,input().split()))\n",
        "c=int(input())\n",
        "d=list(map(int,input().split()))\n",
        "j=0\n",
        "result=[]\n",
        "for j in range(c):\n",
        "  count=0\n",
        "  for i in range(a):\n",
        "    if d[j]==b[i]:\n",
        "      count+=1\n",
        "  if count>=1:\n",
        "    result.append(count)\n",
        "  else:\n",
        "    result.append(\"Not Present\")\n",
        "print(*result)  "
      ],
      "metadata": {
        "id": "yWhAXu3eMqtl",
        "colab": {
          "base_uri": "https://localhost:8080/"
        },
        "outputId": "d9399ca4-75b2-4b42-8a22-40cc5c07d2c4"
      },
      "execution_count": null,
      "outputs": [
        {
          "output_type": "stream",
          "name": "stdout",
          "text": [
            "10\n",
            "1 1 1 2 2 2 3 8 9 7\n",
            "5\n",
            "1 2 3 0 5\n",
            "[3, 3, 1, 'Not Present', 'Not Present']\n"
          ]
        }
      ]
    },
    {
      "cell_type": "code",
      "source": [
        "import decimal\n",
        "decimal.getcontext().rounding = decimal.ROUND_DOWN\n",
        "a=list(map(float,input().split()))\n",
        "b=decimal.Decimal(a[0]*a[1])\n",
        "print(round(b,5))\n"
      ],
      "metadata": {
        "colab": {
          "base_uri": "https://localhost:8080/"
        },
        "id": "TkFcwEUBeNHy",
        "outputId": "9bbdaa71-cf9c-461d-fcb3-3a06a84f907c"
      },
      "execution_count": null,
      "outputs": [
        {
          "output_type": "stream",
          "name": "stdout",
          "text": [
            "2.5432 6.7654\n",
            "17.20576\n"
          ]
        }
      ]
    },
    {
      "cell_type": "code",
      "source": [
        "def coprime(b,c):\n",
        "  d=[]\n",
        "  e=[]\n",
        "  for i in range(1,50):\n",
        "    if b%i==0:\n",
        "      d.append(i)\n",
        "    if c%i==0:\n",
        "      e.append(i)\n",
        "  count=0\n",
        "  for k in range(len(d)):\n",
        "    for l in range(len(e)):\n",
        "      if d[k]==e[l]:\n",
        "        count+=1\n",
        "  if count>=2:\n",
        "    print(\"not stiff\")\n",
        "  else:\n",
        "    print(\"Stiff\")\n",
        "\n",
        "a=int(input())\n",
        "count=0\n",
        "for i in range(2,50):\n",
        "  for j in range(2,50):\n",
        "    if (i+j)==a:\n",
        "      b=i\n",
        "      c=j\n",
        "result=coprime(b,c)"
      ],
      "metadata": {
        "id": "SCXwqxx5mgYe",
        "colab": {
          "base_uri": "https://localhost:8080/"
        },
        "outputId": "89229f50-dc77-4bf9-c9f3-261ea24ae686"
      },
      "execution_count": null,
      "outputs": [
        {
          "output_type": "stream",
          "name": "stdout",
          "text": [
            "4\n",
            "no stiff\n"
          ]
        }
      ]
    },
    {
      "cell_type": "code",
      "source": [
        "a=input()\n",
        "c=0\n",
        "for i in range(len(a)):\n",
        "  b=int(a[i])\n",
        "  c=c+(b*b)\n",
        "print(c)"
      ],
      "metadata": {
        "colab": {
          "base_uri": "https://localhost:8080/"
        },
        "id": "Dg0MDQ3U4ct7",
        "outputId": "f34ced42-a97e-42d0-e81c-83fe5b7ca6f1"
      },
      "execution_count": null,
      "outputs": [
        {
          "output_type": "stream",
          "name": "stdout",
          "text": [
            "12\n",
            "5\n"
          ]
        }
      ]
    }
  ]
}