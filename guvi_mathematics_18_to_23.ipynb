{
  "nbformat": 4,
  "nbformat_minor": 0,
  "metadata": {
    "colab": {
      "provenance": [],
      "authorship_tag": "ABX9TyNNtCU0z8ZUrnD+1etF2djL",
      "include_colab_link": true
    },
    "kernelspec": {
      "name": "python3",
      "display_name": "Python 3"
    },
    "language_info": {
      "name": "python"
    }
  },
  "cells": [
    {
      "cell_type": "markdown",
      "metadata": {
        "id": "view-in-github",
        "colab_type": "text"
      },
      "source": [
        "<a href=\"https://colab.research.google.com/github/Kart-95/guvi/blob/main/guvi_mathematics_18_to_23.ipynb\" target=\"_parent\"><img src=\"https://colab.research.google.com/assets/colab-badge.svg\" alt=\"Open In Colab\"/></a>"
      ]
    },
    {
      "cell_type": "code",
      "execution_count": null,
      "metadata": {
        "colab": {
          "base_uri": "https://localhost:8080/"
        },
        "id": "Y-kQFdDTJiJ4",
        "outputId": "73963c9e-9e22-44bc-d08d-7277f86d68e1"
      },
      "outputs": [
        {
          "output_type": "stream",
          "name": "stdout",
          "text": [
            "7\n",
            "1 January 2004 2 August 1984 3 October 1986 4 July 1986 22 July 1986 19 March 2004 15 April 2003\n",
            "2 3 4 5\n"
          ]
        }
      ],
      "source": [
        "def month():\n",
        "  months=('January','March','May','July','August','October','December')\n",
        "  monthsmall=('JANUARY','MARCH','MAY','JULY','AUGUST','OCTOBER','DECEMBER')\n",
        "  for i in temp:\n",
        "    for j in range(7):\n",
        "      if b[i-1]==months[j] or b[i-1]==monthsmall[j]:\n",
        "        b[i]=int(b[i])\n",
        "        if b[i]<=1987:\n",
        "          b[i-2]=int(b[i-2])\n",
        "          if b[i-2]==22 or b[i-2]<=31:\n",
        "            result=(temp.index(i))\n",
        "            result=result+1\n",
        "            output.append(result)\n",
        "\n",
        "\n",
        "a=int(input())\n",
        "b=input().split()\n",
        "elements=a*3\n",
        "temp=[]\n",
        "output=[]\n",
        "for i in range(2,elements+1,3):\n",
        "  temp.append(i)\n",
        "month()\n",
        "print(*output)\n",
        "#integer=[]\n",
        "#for i in c:\n",
        "#  temp=int(b[i])\n",
        " # integer.append(temp)\n",
        "#\n",
        "#days=(1,4,7,10)\n",
        "#years=(3,6,9,12)\n",
        "#for i in range()"
      ]
    },
    {
      "cell_type": "code",
      "source": [
        "a=int(input())\n",
        "b=list(map(int,input().split()))\n",
        "c=[]\n",
        "\n",
        "for i in range(a):\n",
        "  count=0\n",
        "  for j in range(a):\n",
        "    if b[i]==b[j]:\n",
        "      count=count+1\n",
        "  if count==1:\n",
        "    c.append(b[i])\n",
        "c.sort(reverse=True)\n",
        "print(*c)"
      ],
      "metadata": {
        "id": "cVcZEopQGoHB",
        "colab": {
          "base_uri": "https://localhost:8080/"
        },
        "outputId": "215d09e0-b695-4151-ffca-d30662999f7d"
      },
      "execution_count": null,
      "outputs": [
        {
          "output_type": "stream",
          "name": "stdout",
          "text": [
            "9\n",
            "1 6 4 56 56 56 6 4 2\n",
            "2 1\n"
          ]
        }
      ]
    },
    {
      "cell_type": "code",
      "source": [
        "a=int(input())\n",
        "count=0\n",
        "for i in range(1,100):\n",
        "  for j in range(1,100):\n",
        "    if i+j==a:\n",
        "      count=count+1\n",
        "print(count)"
      ],
      "metadata": {
        "colab": {
          "base_uri": "https://localhost:8080/"
        },
        "id": "LZ1BsN2B-IHj",
        "outputId": "0e0b355e-2280-4a98-8e4c-ce18d0c6f05b"
      },
      "execution_count": null,
      "outputs": [
        {
          "output_type": "stream",
          "name": "stdout",
          "text": [
            "5\n",
            "4\n"
          ]
        }
      ]
    },
    {
      "cell_type": "code",
      "source": [
        "a=list(map(int,input().split()))\n",
        "b=a[0]-a[1]\n",
        "if b%2==0:\n",
        "  print(\"even\")\n",
        "else:\n",
        "  print(\"odd\")"
      ],
      "metadata": {
        "colab": {
          "base_uri": "https://localhost:8080/"
        },
        "id": "r5gT7DNi-5IO",
        "outputId": "602e6ad2-cb3f-4673-aee9-f31c73a25ff3"
      },
      "execution_count": null,
      "outputs": [
        {
          "output_type": "stream",
          "name": "stdout",
          "text": [
            "10 5\n",
            "odd\n"
          ]
        }
      ]
    },
    {
      "cell_type": "code",
      "source": [
        "a=int(input())\n",
        "b=0\n",
        "for i in range(a,0,-1):\n",
        "  b+=i\n",
        "print(b)"
      ],
      "metadata": {
        "colab": {
          "base_uri": "https://localhost:8080/"
        },
        "id": "vJsHSwP0_2ez",
        "outputId": "154eab44-4863-4b3e-f8e5-f0f444dc70e1"
      },
      "execution_count": null,
      "outputs": [
        {
          "output_type": "stream",
          "name": "stdout",
          "text": [
            "3\n",
            "6\n"
          ]
        }
      ]
    },
    {
      "cell_type": "code",
      "source": [
        "a=int(input())\n",
        "b=list(map(int,input().split()))\n",
        "for i in range(a):\n",
        "  count=0\n",
        "  for j in range(a):\n",
        "    if b[i]<=b[j]:\n",
        "      count=count+1\n",
        "  if count==a:\n",
        "    print(b[i])"
      ],
      "metadata": {
        "colab": {
          "base_uri": "https://localhost:8080/"
        },
        "id": "mhiZSCfNEPFf",
        "outputId": "bff2a7e5-0628-4e28-8789-e99ba072ae00"
      },
      "execution_count": null,
      "outputs": [
        {
          "output_type": "stream",
          "name": "stdout",
          "text": [
            "5\n",
            "3 4 9 1 6\n",
            "1\n"
          ]
        }
      ]
    }
  ]
}