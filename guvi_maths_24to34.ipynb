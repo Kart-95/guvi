{
  "nbformat": 4,
  "nbformat_minor": 0,
  "metadata": {
    "colab": {
      "provenance": [],
      "authorship_tag": "ABX9TyMKtDfpucN5IDpdLZroAyNu",
      "include_colab_link": true
    },
    "kernelspec": {
      "name": "python3",
      "display_name": "Python 3"
    },
    "language_info": {
      "name": "python"
    }
  },
  "cells": [
    {
      "cell_type": "markdown",
      "metadata": {
        "id": "view-in-github",
        "colab_type": "text"
      },
      "source": [
        "<a href=\"https://colab.research.google.com/github/Kart-95/guvi/blob/main/guvi_maths_24to34.ipynb\" target=\"_parent\"><img src=\"https://colab.research.google.com/assets/colab-badge.svg\" alt=\"Open In Colab\"/></a>"
      ]
    },
    {
      "cell_type": "code",
      "execution_count": null,
      "metadata": {
        "colab": {
          "base_uri": "https://localhost:8080/"
        },
        "id": "kfsPae76ILSu",
        "outputId": "faeec58d-e38d-40ae-9fc2-6de819aef232"
      },
      "outputs": [
        {
          "output_type": "stream",
          "name": "stdout",
          "text": [
            "3\n",
            "7 4 9\n",
            "3\n",
            "3\n"
          ]
        }
      ],
      "source": [
        "a=int(input())\n",
        "b=list(map(int,input().split()))\n",
        "result=0\n",
        "total=0\n",
        "for i in range(0,a-1):\n",
        "  if b[i]>b[i+1]:\n",
        "    total=b[i]-b[i+1]\n",
        "    result+=total\n",
        "print(result)\n"
      ]
    },
    {
      "cell_type": "code",
      "source": [
        "a=int(input())\n",
        "for i in range(a,10000):\n",
        "  if i%10==0:\n",
        "    print(i)\n",
        "    break"
      ],
      "metadata": {
        "colab": {
          "base_uri": "https://localhost:8080/"
        },
        "id": "Xn-kEKwxSOZR",
        "outputId": "0cb9ceb8-ac74-44b7-b5c4-b6216c944df0"
      },
      "execution_count": null,
      "outputs": [
        {
          "output_type": "stream",
          "name": "stdout",
          "text": [
            "11\n",
            "20\n"
          ]
        }
      ]
    },
    {
      "cell_type": "code",
      "source": [
        "a=int(input())\n",
        "b=a*2\n",
        "print(b)"
      ],
      "metadata": {
        "colab": {
          "base_uri": "https://localhost:8080/"
        },
        "id": "LlGKqQAu-Mje",
        "outputId": "a8807bde-5931-40d5-add4-2dd5cddc37a3"
      },
      "execution_count": null,
      "outputs": [
        {
          "output_type": "stream",
          "name": "stdout",
          "text": [
            "8\n",
            "16\n"
          ]
        }
      ]
    },
    {
      "cell_type": "code",
      "source": [
        "a=int(input())\n",
        "j=1\n",
        "b=[2]\n",
        "for i in range(1,a):\n",
        "  j=j+2\n",
        "  b.append(j)\n",
        "  b[i]=b[i-1]+j\n",
        "print(*b)"
      ],
      "metadata": {
        "colab": {
          "base_uri": "https://localhost:8080/"
        },
        "id": "a-ISfChQ_BLM",
        "outputId": "cec10016-2007-4e7e-95ca-b8b28c89e5c2"
      },
      "execution_count": null,
      "outputs": [
        {
          "output_type": "stream",
          "name": "stdout",
          "text": [
            "4\n",
            "[2, 5, 10, 17]\n"
          ]
        }
      ]
    },
    {
      "cell_type": "code",
      "source": [
        "a=input().split()\n",
        "b=[]\n",
        "if len(a)<=11:\n",
        "  for i in range(len(a)):\n",
        "    if i ==(len(a)-1):\n",
        "      for j in range(len(a[i])):\n",
        "        if j==len(a[i])-1:\n",
        "          c=list(a[i])\n",
        "          c.remove(c[j])\n",
        "          a[i]=''.join(c)\n",
        "    if a[i].isdigit():\n",
        "      a[i]=int(a[i])\n",
        "      b.append(a[i])\n",
        "  if b[0]>b[1]:\n",
        "    print(b[0])\n",
        "  else:\n",
        "    print(b[1])\n",
        "else:\n",
        "  for i in range(7):\n",
        "    if i ==(7-1):\n",
        "      for j in range(len(a[i])):\n",
        "        if j==len(a[i])-1:\n",
        "          c=list(a[i])\n",
        "          c.remove(c[j])\n",
        "          a[i]=''.join(c)\n",
        "    if a[i].isdigit():\n",
        "      a[i]=int(a[i])\n",
        "      b.append(a[i])\n",
        "  if b[0]>b[1]:\n",
        "    print(b[0])\n",
        "  else:\n",
        "    print(b[1])"
      ],
      "metadata": {
        "colab": {
          "base_uri": "https://localhost:8080/"
        },
        "id": "Nb3jL5cETqZc",
        "outputId": "dc4d4151-0dde-4df5-8434-4c32666beed7"
      },
      "execution_count": null,
      "outputs": [
        {
          "output_type": "stream",
          "name": "stdout",
          "text": [
            " I was born on 12 october 1998.\n",
            "1998\n"
          ]
        }
      ]
    },
    {
      "cell_type": "code",
      "source": [
        "a=int(input())\n",
        "b=list(map(int,input().split()))\n",
        "j=0\n",
        "d=[]\n",
        "for i in range(a):\n",
        "  if i==0:\n",
        "    j=0\n",
        "  else:\n",
        "    j=1+j\n",
        "  c=b[j]-b[a-3]-b[a-2]-b[a-1]\n",
        "  d.append(c)\n",
        "print(*d)"
      ],
      "metadata": {
        "colab": {
          "base_uri": "https://localhost:8080/"
        },
        "id": "xOv0V2l1RuhP",
        "outputId": "c6004b25-46ed-4240-a94f-88a7cd1b4699"
      },
      "execution_count": null,
      "outputs": [
        {
          "output_type": "stream",
          "name": "stdout",
          "text": [
            "5\n",
            "95 85 75 12 11\n",
            "-3 -13 -23 -86 -87\n"
          ]
        }
      ]
    },
    {
      "cell_type": "code",
      "source": [
        "a=list(map(int,input().split()))\n",
        "b=[]\n",
        "c=[]\n",
        "for i in range(1,100):\n",
        "  if a[0]%i==0:\n",
        "    b.append(i)\n",
        "b.sort()\n",
        "for j in range(1,100):\n",
        "  if a[1]%j==0:\n",
        "    c.append(j)\n",
        "c.sort()\n",
        "l=0\n",
        "count=0\n",
        "for k in range(len(b)):\n",
        "  if b[l]==c[k]:\n",
        "    count=count+1\n",
        "  l=l+1\n",
        "if count==1:\n",
        "  print(\"1\")\n",
        "else:\n",
        "  print(\"0\")\n",
        "\n"
      ],
      "metadata": {
        "colab": {
          "base_uri": "https://localhost:8080/"
        },
        "id": "OyPiDRTtXy3S",
        "outputId": "d85d6d6c-8cc9-4f17-da5a-9a85aab82ed9"
      },
      "execution_count": null,
      "outputs": [
        {
          "output_type": "stream",
          "name": "stdout",
          "text": [
            "21 22\n",
            "1\n"
          ]
        }
      ]
    },
    {
      "cell_type": "code",
      "source": [
        "a=int(input())\n",
        "count=0\n",
        "for i in range(1,1000):\n",
        "  if a%i==0:\n",
        "    count+=1\n",
        "if count==2:\n",
        "  print(\"yes\")\n",
        "else:\n",
        "  print(\"no\")"
      ],
      "metadata": {
        "colab": {
          "base_uri": "https://localhost:8080/"
        },
        "id": "fGOzas8qcwoB",
        "outputId": "5453320e-8a32-4620-90ad-b0ebd15ea0d8"
      },
      "execution_count": null,
      "outputs": [
        {
          "output_type": "stream",
          "name": "stdout",
          "text": [
            "83\n",
            "yes\n"
          ]
        }
      ]
    },
    {
      "cell_type": "code",
      "source": [
        "a=int(input())\n",
        "b=[]\n",
        "for i in range(a):\n",
        "  if i==0:\n",
        "    b.append(1)\n",
        "  elif i==1:\n",
        "    c=3*3\n",
        "    b.append(c)\n",
        "  else:\n",
        "    c=(b[i-1]+a)*a\n",
        "    b.append(c)\n",
        "print(*b)\n"
      ],
      "metadata": {
        "colab": {
          "base_uri": "https://localhost:8080/"
        },
        "id": "7HLJTEq6dtWi",
        "outputId": "ce46fcc2-c65b-406e-f1ad-b7bbb605533c"
      },
      "execution_count": null,
      "outputs": [
        {
          "output_type": "stream",
          "name": "stdout",
          "text": [
            "2\n",
            "1 9\n"
          ]
        }
      ]
    },
    {
      "cell_type": "code",
      "source": [
        "a=input()\n",
        "c=1\n",
        "for i in a:\n",
        "  b=int(i)\n",
        "  c=c*b\n",
        "print(c)"
      ],
      "metadata": {
        "colab": {
          "base_uri": "https://localhost:8080/"
        },
        "id": "i0gZUWZsiRwW",
        "outputId": "ec52b85a-8d4f-4719-f58d-a5d70cdc6869"
      },
      "execution_count": null,
      "outputs": [
        {
          "output_type": "stream",
          "name": "stdout",
          "text": [
            "2143\n",
            "24\n"
          ]
        }
      ]
    },
    {
      "cell_type": "code",
      "source": [
        "a=int(input())\n",
        "b=[]\n",
        "for i in range(1,1000):\n",
        "  if a%i==0:\n",
        "    b.append(i)\n",
        "    if a==i:\n",
        "      break\n",
        "print(*b)"
      ],
      "metadata": {
        "colab": {
          "base_uri": "https://localhost:8080/"
        },
        "id": "M6vGxmB2jJj3",
        "outputId": "74659486-194f-4e3f-8b60-432492171d4d"
      },
      "execution_count": null,
      "outputs": [
        {
          "output_type": "stream",
          "name": "stdout",
          "text": [
            "6\n",
            "1 2 3 6\n"
          ]
        }
      ]
    }
  ]
}